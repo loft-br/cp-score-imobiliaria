{
 "cells": [
  {
   "cell_type": "code",
   "execution_count": 1,
   "metadata": {},
   "outputs": [],
   "source": [
    "import os\n",
    "os.chdir('../')"
   ]
  },
  {
   "attachments": {},
   "cell_type": "markdown",
   "metadata": {},
   "source": [
    "## Imports"
   ]
  },
  {
   "cell_type": "code",
   "execution_count": 2,
   "metadata": {},
   "outputs": [],
   "source": [
    "import pandas as pd\n",
    "from src.data_preprocess import DataProcessor, aggregate_data"
   ]
  },
  {
   "attachments": {},
   "cell_type": "markdown",
   "metadata": {},
   "source": [
    "## Data Collect"
   ]
  },
  {
   "cell_type": "code",
   "execution_count": 3,
   "metadata": {},
   "outputs": [
    {
     "name": "stdout",
     "output_type": "stream",
     "text": [
      "(92656, 20)\n"
     ]
    },
    {
     "data": {
      "text/html": [
       "<div>\n",
       "<style scoped>\n",
       "    .dataframe tbody tr th:only-of-type {\n",
       "        vertical-align: middle;\n",
       "    }\n",
       "\n",
       "    .dataframe tbody tr th {\n",
       "        vertical-align: top;\n",
       "    }\n",
       "\n",
       "    .dataframe thead th {\n",
       "        text-align: right;\n",
       "    }\n",
       "</style>\n",
       "<table border=\"1\" class=\"dataframe\">\n",
       "  <thead>\n",
       "    <tr style=\"text-align: right;\">\n",
       "      <th></th>\n",
       "      <th>dt_calendar</th>\n",
       "      <th>id_imobiliaria</th>\n",
       "      <th>lat_imob</th>\n",
       "      <th>long_imob</th>\n",
       "      <th>is_active</th>\n",
       "      <th>is_activated</th>\n",
       "      <th>is_commun_first_90days</th>\n",
       "      <th>is_debelado</th>\n",
       "      <th>is_debelado_first_4months</th>\n",
       "      <th>is_indemnified</th>\n",
       "      <th>indemnity_value</th>\n",
       "      <th>is_indemn_first_6months</th>\n",
       "      <th>vl_locacao</th>\n",
       "      <th>is_churn</th>\n",
       "      <th>exonerated_first_6months</th>\n",
       "      <th>rating_A</th>\n",
       "      <th>rating_B</th>\n",
       "      <th>rating_C</th>\n",
       "      <th>rating_D</th>\n",
       "      <th>rating_E</th>\n",
       "    </tr>\n",
       "  </thead>\n",
       "  <tbody>\n",
       "    <tr>\n",
       "      <th>369</th>\n",
       "      <td>2017-10-01</td>\n",
       "      <td>25</td>\n",
       "      <td>-25.45</td>\n",
       "      <td>-49.27</td>\n",
       "      <td>0.0</td>\n",
       "      <td>3</td>\n",
       "      <td>0</td>\n",
       "      <td>0</td>\n",
       "      <td>0</td>\n",
       "      <td>1</td>\n",
       "      <td>4717.81</td>\n",
       "      <td>0</td>\n",
       "      <td>1731.44</td>\n",
       "      <td>0</td>\n",
       "      <td>0</td>\n",
       "      <td>0.0</td>\n",
       "      <td>0.0</td>\n",
       "      <td>0.0</td>\n",
       "      <td>0.0</td>\n",
       "      <td>0.0</td>\n",
       "    </tr>\n",
       "    <tr>\n",
       "      <th>465</th>\n",
       "      <td>2017-11-01</td>\n",
       "      <td>25</td>\n",
       "      <td>-25.45</td>\n",
       "      <td>-49.27</td>\n",
       "      <td>3.0</td>\n",
       "      <td>1</td>\n",
       "      <td>0</td>\n",
       "      <td>0</td>\n",
       "      <td>0</td>\n",
       "      <td>0</td>\n",
       "      <td>0.00</td>\n",
       "      <td>0</td>\n",
       "      <td>1444.38</td>\n",
       "      <td>0</td>\n",
       "      <td>0</td>\n",
       "      <td>0.0</td>\n",
       "      <td>0.0</td>\n",
       "      <td>0.0</td>\n",
       "      <td>0.0</td>\n",
       "      <td>0.0</td>\n",
       "    </tr>\n",
       "    <tr>\n",
       "      <th>586</th>\n",
       "      <td>2017-12-01</td>\n",
       "      <td>25</td>\n",
       "      <td>-25.45</td>\n",
       "      <td>-49.27</td>\n",
       "      <td>4.0</td>\n",
       "      <td>1</td>\n",
       "      <td>0</td>\n",
       "      <td>1</td>\n",
       "      <td>0</td>\n",
       "      <td>0</td>\n",
       "      <td>0.00</td>\n",
       "      <td>0</td>\n",
       "      <td>4427.33</td>\n",
       "      <td>0</td>\n",
       "      <td>0</td>\n",
       "      <td>0.0</td>\n",
       "      <td>0.0</td>\n",
       "      <td>0.0</td>\n",
       "      <td>0.0</td>\n",
       "      <td>0.0</td>\n",
       "    </tr>\n",
       "    <tr>\n",
       "      <th>717</th>\n",
       "      <td>2018-01-01</td>\n",
       "      <td>25</td>\n",
       "      <td>-25.45</td>\n",
       "      <td>-49.27</td>\n",
       "      <td>5.0</td>\n",
       "      <td>1</td>\n",
       "      <td>0</td>\n",
       "      <td>0</td>\n",
       "      <td>0</td>\n",
       "      <td>0</td>\n",
       "      <td>0.00</td>\n",
       "      <td>0</td>\n",
       "      <td>1896.09</td>\n",
       "      <td>0</td>\n",
       "      <td>0</td>\n",
       "      <td>0.0</td>\n",
       "      <td>0.0</td>\n",
       "      <td>0.0</td>\n",
       "      <td>0.0</td>\n",
       "      <td>0.0</td>\n",
       "    </tr>\n",
       "    <tr>\n",
       "      <th>32136</th>\n",
       "      <td>2021-03-01</td>\n",
       "      <td>25</td>\n",
       "      <td>-25.45</td>\n",
       "      <td>-49.27</td>\n",
       "      <td>4.0</td>\n",
       "      <td>1</td>\n",
       "      <td>0</td>\n",
       "      <td>0</td>\n",
       "      <td>0</td>\n",
       "      <td>0</td>\n",
       "      <td>0.00</td>\n",
       "      <td>0</td>\n",
       "      <td>2090.16</td>\n",
       "      <td>0</td>\n",
       "      <td>0</td>\n",
       "      <td>0.0</td>\n",
       "      <td>1.0</td>\n",
       "      <td>0.0</td>\n",
       "      <td>0.0</td>\n",
       "      <td>0.0</td>\n",
       "    </tr>\n",
       "  </tbody>\n",
       "</table>\n",
       "</div>"
      ],
      "text/plain": [
       "      dt_calendar  id_imobiliaria  lat_imob  long_imob  is_active  \\\n",
       "369    2017-10-01              25    -25.45     -49.27        0.0   \n",
       "465    2017-11-01              25    -25.45     -49.27        3.0   \n",
       "586    2017-12-01              25    -25.45     -49.27        4.0   \n",
       "717    2018-01-01              25    -25.45     -49.27        5.0   \n",
       "32136  2021-03-01              25    -25.45     -49.27        4.0   \n",
       "\n",
       "       is_activated  is_commun_first_90days  is_debelado  \\\n",
       "369               3                       0            0   \n",
       "465               1                       0            0   \n",
       "586               1                       0            1   \n",
       "717               1                       0            0   \n",
       "32136             1                       0            0   \n",
       "\n",
       "       is_debelado_first_4months  is_indemnified  indemnity_value  \\\n",
       "369                            0               1          4717.81   \n",
       "465                            0               0             0.00   \n",
       "586                            0               0             0.00   \n",
       "717                            0               0             0.00   \n",
       "32136                          0               0             0.00   \n",
       "\n",
       "       is_indemn_first_6months  vl_locacao  is_churn  \\\n",
       "369                          0     1731.44         0   \n",
       "465                          0     1444.38         0   \n",
       "586                          0     4427.33         0   \n",
       "717                          0     1896.09         0   \n",
       "32136                        0     2090.16         0   \n",
       "\n",
       "       exonerated_first_6months  rating_A  rating_B  rating_C  rating_D  \\\n",
       "369                           0       0.0       0.0       0.0       0.0   \n",
       "465                           0       0.0       0.0       0.0       0.0   \n",
       "586                           0       0.0       0.0       0.0       0.0   \n",
       "717                           0       0.0       0.0       0.0       0.0   \n",
       "32136                         0       0.0       1.0       0.0       0.0   \n",
       "\n",
       "       rating_E  \n",
       "369         0.0  \n",
       "465         0.0  \n",
       "586         0.0  \n",
       "717         0.0  \n",
       "32136       0.0  "
      ]
     },
     "execution_count": 3,
     "metadata": {},
     "output_type": "execute_result"
    }
   ],
   "source": [
    "df_imobs  = pd.read_csv(\"notebooks/outputs/df_imobs.csv\").rename(columns={\"dt_ativacao\": \"dt_calendar\"})\n",
    "\n",
    "df_imobs[\"dt_calendar\"] = pd.to_datetime(df_imobs[\"dt_calendar\"])\n",
    "df_imobs = df_imobs.sort_values([\"id_imobiliaria\", \"dt_calendar\"])\n",
    "\n",
    "print(df_imobs.shape)\n",
    "df_imobs.head()"
   ]
  },
  {
   "cell_type": "code",
   "execution_count": 4,
   "metadata": {},
   "outputs": [
    {
     "data": {
      "text/html": [
       "<div>\n",
       "<style scoped>\n",
       "    .dataframe tbody tr th:only-of-type {\n",
       "        vertical-align: middle;\n",
       "    }\n",
       "\n",
       "    .dataframe tbody tr th {\n",
       "        vertical-align: top;\n",
       "    }\n",
       "\n",
       "    .dataframe thead th {\n",
       "        text-align: right;\n",
       "    }\n",
       "</style>\n",
       "<table border=\"1\" class=\"dataframe\">\n",
       "  <thead>\n",
       "    <tr style=\"text-align: right;\">\n",
       "      <th></th>\n",
       "      <th>count</th>\n",
       "    </tr>\n",
       "    <tr>\n",
       "      <th>new_imob</th>\n",
       "      <th></th>\n",
       "    </tr>\n",
       "  </thead>\n",
       "  <tbody>\n",
       "    <tr>\n",
       "      <th>False</th>\n",
       "      <td>10465</td>\n",
       "    </tr>\n",
       "    <tr>\n",
       "      <th>True</th>\n",
       "      <td>82191</td>\n",
       "    </tr>\n",
       "  </tbody>\n",
       "</table>\n",
       "</div>"
      ],
      "text/plain": [
       "          count\n",
       "new_imob       \n",
       "False     10465\n",
       "True      82191"
      ]
     },
     "execution_count": 4,
     "metadata": {},
     "output_type": "execute_result"
    }
   ],
   "source": [
    "# Novas imobiliárias\n",
    "(\n",
    "    df_imobs[\"is_active\"].apply(lambda x: (x < 100))\n",
    "    .to_frame(\"new_imob\")\n",
    "    .groupby(\"new_imob\").size()\n",
    "    .to_frame(\"count\")\n",
    ")"
   ]
  },
  {
   "cell_type": "code",
   "execution_count": 5,
   "metadata": {},
   "outputs": [
    {
     "data": {
      "text/html": [
       "<div>\n",
       "<style scoped>\n",
       "    .dataframe tbody tr th:only-of-type {\n",
       "        vertical-align: middle;\n",
       "    }\n",
       "\n",
       "    .dataframe tbody tr th {\n",
       "        vertical-align: top;\n",
       "    }\n",
       "\n",
       "    .dataframe thead th {\n",
       "        text-align: right;\n",
       "    }\n",
       "</style>\n",
       "<table border=\"1\" class=\"dataframe\">\n",
       "  <thead>\n",
       "    <tr style=\"text-align: right;\">\n",
       "      <th></th>\n",
       "      <th>id_imobiliaria</th>\n",
       "      <th>is_active</th>\n",
       "    </tr>\n",
       "  </thead>\n",
       "  <tbody>\n",
       "    <tr>\n",
       "      <th>0</th>\n",
       "      <td>25</td>\n",
       "      <td>3.571429</td>\n",
       "    </tr>\n",
       "    <tr>\n",
       "      <th>1</th>\n",
       "      <td>30</td>\n",
       "      <td>33.181818</td>\n",
       "    </tr>\n",
       "    <tr>\n",
       "      <th>2</th>\n",
       "      <td>35</td>\n",
       "      <td>6.875000</td>\n",
       "    </tr>\n",
       "    <tr>\n",
       "      <th>3</th>\n",
       "      <td>36</td>\n",
       "      <td>0.500000</td>\n",
       "    </tr>\n",
       "    <tr>\n",
       "      <th>4</th>\n",
       "      <td>38</td>\n",
       "      <td>151.065574</td>\n",
       "    </tr>\n",
       "    <tr>\n",
       "      <th>...</th>\n",
       "      <td>...</td>\n",
       "      <td>...</td>\n",
       "    </tr>\n",
       "    <tr>\n",
       "      <th>8194</th>\n",
       "      <td>30484</td>\n",
       "      <td>0.000000</td>\n",
       "    </tr>\n",
       "    <tr>\n",
       "      <th>8195</th>\n",
       "      <td>30501</td>\n",
       "      <td>0.000000</td>\n",
       "    </tr>\n",
       "    <tr>\n",
       "      <th>8196</th>\n",
       "      <td>30537</td>\n",
       "      <td>0.000000</td>\n",
       "    </tr>\n",
       "    <tr>\n",
       "      <th>8197</th>\n",
       "      <td>30547</td>\n",
       "      <td>0.000000</td>\n",
       "    </tr>\n",
       "    <tr>\n",
       "      <th>8198</th>\n",
       "      <td>30751</td>\n",
       "      <td>0.500000</td>\n",
       "    </tr>\n",
       "  </tbody>\n",
       "</table>\n",
       "<p>8199 rows × 2 columns</p>\n",
       "</div>"
      ],
      "text/plain": [
       "      id_imobiliaria   is_active\n",
       "0                 25    3.571429\n",
       "1                 30   33.181818\n",
       "2                 35    6.875000\n",
       "3                 36    0.500000\n",
       "4                 38  151.065574\n",
       "...              ...         ...\n",
       "8194           30484    0.000000\n",
       "8195           30501    0.000000\n",
       "8196           30537    0.000000\n",
       "8197           30547    0.000000\n",
       "8198           30751    0.500000\n",
       "\n",
       "[8199 rows x 2 columns]"
      ]
     },
     "execution_count": 5,
     "metadata": {},
     "output_type": "execute_result"
    }
   ],
   "source": [
    "df_imobs.groupby(\"id_imobiliaria\", as_index=False)[\"is_active\"].mean()"
   ]
  },
  {
   "cell_type": "code",
   "execution_count": 6,
   "metadata": {},
   "outputs": [],
   "source": [
    "df_imobs[\"target\"] = df_imobs[\"is_indemn_first_6months\"].transform(\n",
    "    lambda x: 1 if x >= 1 else 0 \n",
    ")"
   ]
  },
  {
   "attachments": {},
   "cell_type": "markdown",
   "metadata": {},
   "source": [
    "## Shift das Features"
   ]
  },
  {
   "cell_type": "code",
   "execution_count": 7,
   "metadata": {},
   "outputs": [
    {
     "data": {
      "text/plain": [
       "Index(['dt_calendar', 'id_imobiliaria', 'lat_imob', 'long_imob', 'is_active',\n",
       "       'is_activated', 'is_commun_first_90days', 'is_debelado',\n",
       "       'is_debelado_first_4months', 'is_indemnified', 'indemnity_value',\n",
       "       'is_indemn_first_6months', 'vl_locacao', 'is_churn',\n",
       "       'exonerated_first_6months', 'rating_A', 'rating_B', 'rating_C',\n",
       "       'rating_D', 'rating_E', 'target'],\n",
       "      dtype='object')"
      ]
     },
     "execution_count": 7,
     "metadata": {},
     "output_type": "execute_result"
    }
   ],
   "source": [
    "df_imobs.columns"
   ]
  },
  {
   "cell_type": "code",
   "execution_count": 8,
   "metadata": {},
   "outputs": [],
   "source": [
    "processor = DataProcessor(df_imobs)"
   ]
  },
  {
   "cell_type": "code",
   "execution_count": 9,
   "metadata": {},
   "outputs": [],
   "source": [
    "# is_active já está com shift de 1 (já está com dado de um cohort atrás)\n",
    "df_shift = processor.features_shift(\n",
    "    group_by=\"id_imobiliaria\",\n",
    "    columns_to_shift={\n",
    "        1: [\"is_churn\"],\n",
    "        3: [\"is_commun_first_90days\"],\n",
    "        4: [\"is_debelado_first_4months\"],\n",
    "        6: [\"exonerated_first_6months\"]\n",
    "\n",
    "    }\n",
    ")"
   ]
  },
  {
   "cell_type": "code",
   "execution_count": 10,
   "metadata": {},
   "outputs": [],
   "source": [
    "df_shift[\"churn_rate\"] = df_shift[\"is_churn\"] / df_shift[\"is_activated\"]"
   ]
  },
  {
   "cell_type": "code",
   "execution_count": 13,
   "metadata": {},
   "outputs": [],
   "source": [
    "def aggregate_data(df, column, window):\n",
    "    return (\n",
    "        (df.groupby([\"id_imobiliaria\"])[column]\n",
    "        .rolling(window, min_periods=1).mean()\n",
    "        .values) \n",
    "        # / \n",
    "        # (df.groupby([\"id_imobiliaria\"])[\"is_activated\"]\n",
    "        # .rolling(window, min_periods=1).mean()\n",
    "        # .values)\n",
    "    )"
   ]
  },
  {
   "cell_type": "code",
   "execution_count": 14,
   "metadata": {},
   "outputs": [],
   "source": [
    "df_shift[\"agg_activated_last_90days\"] = df_shift.groupby([\"id_imobiliaria\"])[\"is_activated\"].rolling(6, min_periods=1).mean().values"
   ]
  },
  {
   "cell_type": "code",
   "execution_count": 11,
   "metadata": {},
   "outputs": [],
   "source": [
    "aggregate_list = {\n",
    "    # \"is_activated\": \"agg_activated_last_90days\",\n",
    "    \"is_commun_first_90days\": \"agg_comun_last_90days\",\n",
    "    # \"is_debelado_first_4months\": \"agg_deb_last_4months\",\n",
    "    # \"exonerated_first_6months\": \"agg_exon_last_6months\",\n",
    "    \"churn_rate\": \"agg_churn_rate\",\n",
    "    # \"rating_A\": \"agg_rating_A\",\n",
    "    # \"rating_B\": \"agg_rating_B\",\n",
    "    # \"rating_C\": \"agg_rating_C\",\n",
    "    # \"rating_D\": \"agg_rating_D\",\n",
    "    # \"rating_E\": \"agg_rating_E\"\n",
    "}"
   ]
  },
  {
   "cell_type": "code",
   "execution_count": 12,
   "metadata": {},
   "outputs": [],
   "source": [
    "for to_agg, column in aggregate_list.items():\n",
    "    df_shift[column] = (\n",
    "        aggregate_data(df_shift, to_agg, 6)\n",
    "    )"
   ]
  },
  {
   "cell_type": "code",
   "execution_count": 13,
   "metadata": {},
   "outputs": [],
   "source": [
    "df_shift = df_shift.loc[df_shift[\"is_active\"] > 100, :].reset_index(drop=True)"
   ]
  },
  {
   "cell_type": "code",
   "execution_count": 14,
   "metadata": {},
   "outputs": [
    {
     "data": {
      "text/plain": [
       "target\n",
       "0    10015\n",
       "1      349\n",
       "dtype: int64"
      ]
     },
     "execution_count": 14,
     "metadata": {},
     "output_type": "execute_result"
    }
   ],
   "source": [
    "# 3,5% de target positivo\n",
    "df_shift.groupby(\"target\").size()"
   ]
  },
  {
   "cell_type": "code",
   "execution_count": 15,
   "metadata": {},
   "outputs": [],
   "source": [
    "df_model = df_shift[~df_shift.exonerated_first_6months.isnull()]"
   ]
  },
  {
   "cell_type": "code",
   "execution_count": 16,
   "metadata": {},
   "outputs": [
    {
     "name": "stderr",
     "output_type": "stream",
     "text": [
      "/var/folders/nc/c031_2vx4zgf4ldqyn14mvvm0000gq/T/ipykernel_35593/895287199.py:1: FutureWarning: Treating datetime data as categorical rather than numeric in `.describe` is deprecated and will be removed in a future version of pandas. Specify `datetime_is_numeric=True` to silence this warning and adopt the future behavior now.\n",
      "  df_model.dt_calendar.describe()\n"
     ]
    },
    {
     "data": {
      "text/plain": [
       "count                   10317\n",
       "unique                     68\n",
       "top       2023-01-01 00:00:00\n",
       "freq                      463\n",
       "first     2017-06-01 00:00:00\n",
       "last      2023-01-01 00:00:00\n",
       "Name: dt_calendar, dtype: object"
      ]
     },
     "execution_count": 16,
     "metadata": {},
     "output_type": "execute_result"
    }
   ],
   "source": [
    "df_model.dt_calendar.describe()"
   ]
  },
  {
   "cell_type": "code",
   "execution_count": 17,
   "metadata": {},
   "outputs": [],
   "source": [
    "df_model.to_csv(\"notebooks/outputs/df_model_2.csv\", index=False)"
   ]
  },
  {
   "cell_type": "code",
   "execution_count": 23,
   "metadata": {},
   "outputs": [],
   "source": [
    "# df_new_imobs = (\n",
    "#     df_shift.loc[df_shift[\"is_active\"] <= 100, :][[\"dt_calendar\", \"id_imobiliaria\"]]\n",
    "#     .reset_index(drop=True)\n",
    "#     .query(\"dt_calendar >= '2021-12' and dt_calendar <= '2022-05'\")\n",
    "#     .rename(columns={\"dt_calendar\": \"dt_ativacao\"})\n",
    "# )"
   ]
  },
  {
   "cell_type": "code",
   "execution_count": 24,
   "metadata": {},
   "outputs": [],
   "source": [
    "# df_new_imobs.to_csv(\"notebooks/outputs/df_new_imobs.csv\", index=False)"
   ]
  },
  {
   "cell_type": "code",
   "execution_count": null,
   "metadata": {},
   "outputs": [],
   "source": []
  }
 ],
 "metadata": {
  "kernelspec": {
   "display_name": "Python 3",
   "language": "python",
   "name": "python3"
  },
  "language_info": {
   "codemirror_mode": {
    "name": "ipython",
    "version": 3
   },
   "file_extension": ".py",
   "mimetype": "text/x-python",
   "name": "python",
   "nbconvert_exporter": "python",
   "pygments_lexer": "ipython3",
   "version": "3.8.9"
  },
  "orig_nbformat": 4,
  "vscode": {
   "interpreter": {
    "hash": "31f2aee4e71d21fbe5cf8b01ff0e069b9275f58929596ceb00d14d90e3e16cd6"
   }
  }
 },
 "nbformat": 4,
 "nbformat_minor": 2
}
