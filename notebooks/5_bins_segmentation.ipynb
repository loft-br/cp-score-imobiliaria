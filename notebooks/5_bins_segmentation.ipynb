{
 "cells": [
  {
   "cell_type": "code",
   "execution_count": 1,
   "metadata": {},
   "outputs": [],
   "source": [
    "import os\n",
    "os.chdir('../')"
   ]
  },
  {
   "cell_type": "code",
   "execution_count": 2,
   "metadata": {},
   "outputs": [],
   "source": [
    "import numpy as np\n",
    "import pandas as pd\n",
    "\n",
    "from sklearn.metrics import roc_auc_score\n",
    "from src.utils import flatten, get_segments\n",
    "from src.segmentation import ImobsSegmentation"
   ]
  },
  {
   "cell_type": "code",
   "execution_count": 3,
   "metadata": {},
   "outputs": [
    {
     "data": {
      "text/html": [
       "<div>\n",
       "<style scoped>\n",
       "    .dataframe tbody tr th:only-of-type {\n",
       "        vertical-align: middle;\n",
       "    }\n",
       "\n",
       "    .dataframe tbody tr th {\n",
       "        vertical-align: top;\n",
       "    }\n",
       "\n",
       "    .dataframe thead th {\n",
       "        text-align: right;\n",
       "    }\n",
       "</style>\n",
       "<table border=\"1\" class=\"dataframe\">\n",
       "  <thead>\n",
       "    <tr style=\"text-align: right;\">\n",
       "      <th></th>\n",
       "      <th>dt_ativacao</th>\n",
       "      <th>id_imobiliaria</th>\n",
       "      <th>predictions</th>\n",
       "      <th>target</th>\n",
       "      <th>old_segments</th>\n",
       "    </tr>\n",
       "  </thead>\n",
       "  <tbody>\n",
       "    <tr>\n",
       "      <th>0</th>\n",
       "      <td>2021-12</td>\n",
       "      <td>38</td>\n",
       "      <td>0.057598</td>\n",
       "      <td>0</td>\n",
       "      <td>C</td>\n",
       "    </tr>\n",
       "    <tr>\n",
       "      <th>1</th>\n",
       "      <td>2021-12</td>\n",
       "      <td>50</td>\n",
       "      <td>0.069909</td>\n",
       "      <td>0</td>\n",
       "      <td>D</td>\n",
       "    </tr>\n",
       "    <tr>\n",
       "      <th>2</th>\n",
       "      <td>2021-12</td>\n",
       "      <td>63</td>\n",
       "      <td>0.058328</td>\n",
       "      <td>0</td>\n",
       "      <td>C</td>\n",
       "    </tr>\n",
       "    <tr>\n",
       "      <th>3</th>\n",
       "      <td>2021-12</td>\n",
       "      <td>81</td>\n",
       "      <td>0.208023</td>\n",
       "      <td>0</td>\n",
       "      <td>E</td>\n",
       "    </tr>\n",
       "    <tr>\n",
       "      <th>4</th>\n",
       "      <td>2021-12</td>\n",
       "      <td>95</td>\n",
       "      <td>0.074017</td>\n",
       "      <td>0</td>\n",
       "      <td>D</td>\n",
       "    </tr>\n",
       "  </tbody>\n",
       "</table>\n",
       "</div>"
      ],
      "text/plain": [
       "  dt_ativacao  id_imobiliaria  predictions  target old_segments\n",
       "0     2021-12              38     0.057598       0            C\n",
       "1     2021-12              50     0.069909       0            D\n",
       "2     2021-12              63     0.058328       0            C\n",
       "3     2021-12              81     0.208023       0            E\n",
       "4     2021-12              95     0.074017       0            D"
      ]
     },
     "execution_count": 3,
     "metadata": {},
     "output_type": "execute_result"
    }
   ],
   "source": [
    "df_preds = (\n",
    "    pd.read_csv(\"notebooks/outputs/df_preds_2.csv\")\n",
    "    .rename(columns={\"dt_calendar\": \"dt_ativacao\"})\n",
    ")\n",
    "df_preds[\"dt_ativacao\"] = pd.to_datetime(df_preds[\"dt_ativacao\"]).dt.strftime(\"%Y-%m\")\n",
    "\n",
    "print(df_preds.shape)\n",
    "df_preds.head()"
   ]
  },
  {
   "cell_type": "code",
   "execution_count": 4,
   "metadata": {},
   "outputs": [
    {
     "data": {
      "text/plain": [
       "OptimalBinning(gamma=0.5, max_n_bins=3, min_n_bins=3, name='score_imobiliaria',\n",
       "               solver='mip')"
      ]
     },
     "execution_count": 4,
     "metadata": {},
     "output_type": "execute_result"
    }
   ],
   "source": [
    "partitioner = ImobsSegmentation()\n",
    "partitioner.fit(df_preds)"
   ]
  },
  {
   "cell_type": "code",
   "execution_count": 5,
   "metadata": {},
   "outputs": [
    {
     "name": "stdout",
     "output_type": "stream",
     "text": [
      "Splits: [0.04163761 0.06624058]\n"
     ]
    },
    {
     "data": {
      "text/html": [
       "<div>\n",
       "<style scoped>\n",
       "    .dataframe tbody tr th:only-of-type {\n",
       "        vertical-align: middle;\n",
       "    }\n",
       "\n",
       "    .dataframe tbody tr th {\n",
       "        vertical-align: top;\n",
       "    }\n",
       "\n",
       "    .dataframe thead th {\n",
       "        text-align: right;\n",
       "    }\n",
       "</style>\n",
       "<table border=\"1\" class=\"dataframe\">\n",
       "  <thead>\n",
       "    <tr style=\"text-align: right;\">\n",
       "      <th></th>\n",
       "      <th>Bin</th>\n",
       "      <th>Count</th>\n",
       "      <th>Count (%)</th>\n",
       "      <th>Non-event</th>\n",
       "      <th>Event</th>\n",
       "      <th>Event rate</th>\n",
       "      <th>WoE</th>\n",
       "      <th>IV</th>\n",
       "      <th>JS</th>\n",
       "    </tr>\n",
       "  </thead>\n",
       "  <tbody>\n",
       "    <tr>\n",
       "      <th>0</th>\n",
       "      <td>(-inf, 0.04)</td>\n",
       "      <td>687</td>\n",
       "      <td>0.310158</td>\n",
       "      <td>683</td>\n",
       "      <td>4</td>\n",
       "      <td>0.005822</td>\n",
       "      <td>1.450858</td>\n",
       "      <td>0.351083</td>\n",
       "      <td>0.040401</td>\n",
       "    </tr>\n",
       "    <tr>\n",
       "      <th>1</th>\n",
       "      <td>[0.04, 0.07)</td>\n",
       "      <td>1047</td>\n",
       "      <td>0.472686</td>\n",
       "      <td>1029</td>\n",
       "      <td>18</td>\n",
       "      <td>0.017192</td>\n",
       "      <td>0.356629</td>\n",
       "      <td>0.050939</td>\n",
       "      <td>0.006334</td>\n",
       "    </tr>\n",
       "    <tr>\n",
       "      <th>2</th>\n",
       "      <td>[0.07, inf)</td>\n",
       "      <td>481</td>\n",
       "      <td>0.217156</td>\n",
       "      <td>449</td>\n",
       "      <td>32</td>\n",
       "      <td>0.066528</td>\n",
       "      <td>-1.048055</td>\n",
       "      <td>0.403311</td>\n",
       "      <td>0.048226</td>\n",
       "    </tr>\n",
       "    <tr>\n",
       "      <th>3</th>\n",
       "      <td>Special</td>\n",
       "      <td>0</td>\n",
       "      <td>0.000000</td>\n",
       "      <td>0</td>\n",
       "      <td>0</td>\n",
       "      <td>0.000000</td>\n",
       "      <td>0.0</td>\n",
       "      <td>0.000000</td>\n",
       "      <td>0.000000</td>\n",
       "    </tr>\n",
       "    <tr>\n",
       "      <th>4</th>\n",
       "      <td>Missing</td>\n",
       "      <td>0</td>\n",
       "      <td>0.000000</td>\n",
       "      <td>0</td>\n",
       "      <td>0</td>\n",
       "      <td>0.000000</td>\n",
       "      <td>0.0</td>\n",
       "      <td>0.000000</td>\n",
       "      <td>0.000000</td>\n",
       "    </tr>\n",
       "    <tr>\n",
       "      <th>Totals</th>\n",
       "      <td></td>\n",
       "      <td>2215</td>\n",
       "      <td>1.000000</td>\n",
       "      <td>2161</td>\n",
       "      <td>54</td>\n",
       "      <td>0.024379</td>\n",
       "      <td></td>\n",
       "      <td>0.805334</td>\n",
       "      <td>0.094961</td>\n",
       "    </tr>\n",
       "  </tbody>\n",
       "</table>\n",
       "</div>"
      ],
      "text/plain": [
       "                 Bin  Count  Count (%)  Non-event  Event  Event rate  \\\n",
       "0       (-inf, 0.04)    687   0.310158        683      4    0.005822   \n",
       "1       [0.04, 0.07)   1047   0.472686       1029     18    0.017192   \n",
       "2        [0.07, inf)    481   0.217156        449     32    0.066528   \n",
       "3            Special      0   0.000000          0      0    0.000000   \n",
       "4            Missing      0   0.000000          0      0    0.000000   \n",
       "Totals                 2215   1.000000       2161     54    0.024379   \n",
       "\n",
       "             WoE        IV        JS  \n",
       "0       1.450858  0.351083  0.040401  \n",
       "1       0.356629  0.050939  0.006334  \n",
       "2      -1.048055  0.403311  0.048226  \n",
       "3            0.0  0.000000  0.000000  \n",
       "4            0.0  0.000000  0.000000  \n",
       "Totals            0.805334  0.094961  "
      ]
     },
     "execution_count": 5,
     "metadata": {},
     "output_type": "execute_result"
    }
   ],
   "source": [
    "print(f\"Splits: {partitioner.splits}\")\n",
    "partitioner.binning_table()"
   ]
  },
  {
   "cell_type": "code",
   "execution_count": 6,
   "metadata": {},
   "outputs": [
    {
     "data": {
      "text/html": [
       "<div>\n",
       "<style scoped>\n",
       "    .dataframe tbody tr th:only-of-type {\n",
       "        vertical-align: middle;\n",
       "    }\n",
       "\n",
       "    .dataframe tbody tr th {\n",
       "        vertical-align: top;\n",
       "    }\n",
       "\n",
       "    .dataframe thead th {\n",
       "        text-align: right;\n",
       "    }\n",
       "</style>\n",
       "<table border=\"1\" class=\"dataframe\">\n",
       "  <thead>\n",
       "    <tr style=\"text-align: right;\">\n",
       "      <th></th>\n",
       "      <th>dt_ativacao</th>\n",
       "      <th>id_imobiliaria</th>\n",
       "      <th>predictions</th>\n",
       "      <th>target</th>\n",
       "      <th>old_segments</th>\n",
       "      <th>optimal_bins</th>\n",
       "      <th>optimal_segments</th>\n",
       "      <th>old_transformed_segments</th>\n",
       "    </tr>\n",
       "  </thead>\n",
       "  <tbody>\n",
       "    <tr>\n",
       "      <th>0</th>\n",
       "      <td>2021-12</td>\n",
       "      <td>38</td>\n",
       "      <td>0.057598</td>\n",
       "      <td>0</td>\n",
       "      <td>C</td>\n",
       "      <td>0.017192</td>\n",
       "      <td>2-medio</td>\n",
       "      <td>B</td>\n",
       "    </tr>\n",
       "    <tr>\n",
       "      <th>1</th>\n",
       "      <td>2021-12</td>\n",
       "      <td>50</td>\n",
       "      <td>0.069909</td>\n",
       "      <td>0</td>\n",
       "      <td>D</td>\n",
       "      <td>0.066528</td>\n",
       "      <td>3-alto</td>\n",
       "      <td>B</td>\n",
       "    </tr>\n",
       "    <tr>\n",
       "      <th>2</th>\n",
       "      <td>2021-12</td>\n",
       "      <td>63</td>\n",
       "      <td>0.058328</td>\n",
       "      <td>0</td>\n",
       "      <td>C</td>\n",
       "      <td>0.017192</td>\n",
       "      <td>2-medio</td>\n",
       "      <td>B</td>\n",
       "    </tr>\n",
       "    <tr>\n",
       "      <th>3</th>\n",
       "      <td>2021-12</td>\n",
       "      <td>81</td>\n",
       "      <td>0.208023</td>\n",
       "      <td>0</td>\n",
       "      <td>E</td>\n",
       "      <td>0.066528</td>\n",
       "      <td>3-alto</td>\n",
       "      <td>C</td>\n",
       "    </tr>\n",
       "    <tr>\n",
       "      <th>4</th>\n",
       "      <td>2021-12</td>\n",
       "      <td>95</td>\n",
       "      <td>0.074017</td>\n",
       "      <td>0</td>\n",
       "      <td>D</td>\n",
       "      <td>0.066528</td>\n",
       "      <td>3-alto</td>\n",
       "      <td>B</td>\n",
       "    </tr>\n",
       "  </tbody>\n",
       "</table>\n",
       "</div>"
      ],
      "text/plain": [
       "  dt_ativacao  id_imobiliaria  predictions  target old_segments  optimal_bins  \\\n",
       "0     2021-12              38     0.057598       0            C      0.017192   \n",
       "1     2021-12              50     0.069909       0            D      0.066528   \n",
       "2     2021-12              63     0.058328       0            C      0.017192   \n",
       "3     2021-12              81     0.208023       0            E      0.066528   \n",
       "4     2021-12              95     0.074017       0            D      0.066528   \n",
       "\n",
       "  optimal_segments old_transformed_segments  \n",
       "0          2-medio                        B  \n",
       "1           3-alto                        B  \n",
       "2          2-medio                        B  \n",
       "3           3-alto                        C  \n",
       "4           3-alto                        B  "
      ]
     },
     "execution_count": 6,
     "metadata": {},
     "output_type": "execute_result"
    }
   ],
   "source": [
    "df_preds = partitioner.get_optimal_segments(df_preds)\n",
    "\n",
    "df_preds[\"old_transformed_segments\"] = (\n",
    "    df_preds[\"old_segments\"]\n",
    "    .replace(['B', 'C', 'D'],'B')\n",
    "    .replace('E', 'C')\n",
    ")\n",
    "\n",
    "df_preds.head()"
   ]
  },
  {
   "cell_type": "code",
   "execution_count": 7,
   "metadata": {},
   "outputs": [
    {
     "name": "stdout",
     "output_type": "stream",
     "text": [
      "AUC among segments:               \n",
      "- Optimal segments: 0.727\n",
      "\n",
      "AUC within segments (mean): 0.582\n"
     ]
    },
    {
     "data": {
      "text/html": [
       "<div>\n",
       "<style scoped>\n",
       "    .dataframe tbody tr th:only-of-type {\n",
       "        vertical-align: middle;\n",
       "    }\n",
       "\n",
       "    .dataframe tbody tr th {\n",
       "        vertical-align: top;\n",
       "    }\n",
       "\n",
       "    .dataframe thead th {\n",
       "        text-align: right;\n",
       "    }\n",
       "</style>\n",
       "<table border=\"1\" class=\"dataframe\">\n",
       "  <thead>\n",
       "    <tr style=\"text-align: right;\">\n",
       "      <th></th>\n",
       "      <th>rating</th>\n",
       "      <th>auc</th>\n",
       "    </tr>\n",
       "  </thead>\n",
       "  <tbody>\n",
       "    <tr>\n",
       "      <th>0</th>\n",
       "      <td>0.005822</td>\n",
       "      <td>0.694</td>\n",
       "    </tr>\n",
       "    <tr>\n",
       "      <th>1</th>\n",
       "      <td>0.017192</td>\n",
       "      <td>0.498</td>\n",
       "    </tr>\n",
       "    <tr>\n",
       "      <th>2</th>\n",
       "      <td>0.066528</td>\n",
       "      <td>0.553</td>\n",
       "    </tr>\n",
       "  </tbody>\n",
       "</table>\n",
       "</div>"
      ],
      "text/plain": [
       "     rating    auc\n",
       "0  0.005822  0.694\n",
       "1  0.017192  0.498\n",
       "2  0.066528  0.553"
      ]
     },
     "execution_count": 7,
     "metadata": {},
     "output_type": "execute_result"
    }
   ],
   "source": [
    "# Segmentação ótima\n",
    "partitioner.calculate_auc_among_segments(df_preds)\n",
    "partitioner.calculate_auc_within_segments(df_preds, \"optimal_bins\")"
   ]
  },
  {
   "cell_type": "code",
   "execution_count": 8,
   "metadata": {},
   "outputs": [],
   "source": [
    "df_preds.to_csv(f\"notebooks/outputs/df_bins_2.csv\", index=False)"
   ]
  },
  {
   "cell_type": "code",
   "execution_count": 8,
   "metadata": {},
   "outputs": [
    {
     "name": "stdout",
     "output_type": "stream",
     "text": [
      "AUC among segments:               \n",
      "- Optimal segments: 0.78\n",
      "\n",
      "AUC within segments (mean): 0.502\n"
     ]
    },
    {
     "data": {
      "text/html": [
       "<div>\n",
       "<style scoped>\n",
       "    .dataframe tbody tr th:only-of-type {\n",
       "        vertical-align: middle;\n",
       "    }\n",
       "\n",
       "    .dataframe tbody tr th {\n",
       "        vertical-align: top;\n",
       "    }\n",
       "\n",
       "    .dataframe thead th {\n",
       "        text-align: right;\n",
       "    }\n",
       "</style>\n",
       "<table border=\"1\" class=\"dataframe\">\n",
       "  <thead>\n",
       "    <tr style=\"text-align: right;\">\n",
       "      <th></th>\n",
       "      <th>rating</th>\n",
       "      <th>auc</th>\n",
       "    </tr>\n",
       "  </thead>\n",
       "  <tbody>\n",
       "    <tr>\n",
       "      <th>0</th>\n",
       "      <td>0.001813</td>\n",
       "      <td>0.522</td>\n",
       "    </tr>\n",
       "    <tr>\n",
       "      <th>1</th>\n",
       "      <td>0.022315</td>\n",
       "      <td>0.470</td>\n",
       "    </tr>\n",
       "    <tr>\n",
       "      <th>2</th>\n",
       "      <td>0.055794</td>\n",
       "      <td>0.513</td>\n",
       "    </tr>\n",
       "  </tbody>\n",
       "</table>\n",
       "</div>"
      ],
      "text/plain": [
       "     rating    auc\n",
       "0  0.001813  0.522\n",
       "1  0.022315  0.470\n",
       "2  0.055794  0.513"
      ]
     },
     "execution_count": 8,
     "metadata": {},
     "output_type": "execute_result"
    }
   ],
   "source": [
    "# Segmentação ótima\n",
    "partitioner.calculate_auc_among_segments(df_preds)\n",
    "partitioner.calculate_auc_within_segments(df_preds, \"optimal_bins\")"
   ]
  },
  {
   "cell_type": "code",
   "execution_count": 8,
   "metadata": {},
   "outputs": [
    {
     "name": "stdout",
     "output_type": "stream",
     "text": [
      "AUC among segments:               \n",
      "- Optimal segments: 0.78\n",
      "- Alternative segments: 0.758\n",
      "\n",
      "AUC within segments (mean): 0.64\n"
     ]
    },
    {
     "data": {
      "text/html": [
       "<div>\n",
       "<style scoped>\n",
       "    .dataframe tbody tr th:only-of-type {\n",
       "        vertical-align: middle;\n",
       "    }\n",
       "\n",
       "    .dataframe tbody tr th {\n",
       "        vertical-align: top;\n",
       "    }\n",
       "\n",
       "    .dataframe thead th {\n",
       "        text-align: right;\n",
       "    }\n",
       "</style>\n",
       "<table border=\"1\" class=\"dataframe\">\n",
       "  <thead>\n",
       "    <tr style=\"text-align: right;\">\n",
       "      <th></th>\n",
       "      <th>rating</th>\n",
       "      <th>auc</th>\n",
       "    </tr>\n",
       "  </thead>\n",
       "  <tbody>\n",
       "    <tr>\n",
       "      <th>0</th>\n",
       "      <td>A</td>\n",
       "      <td>0.483</td>\n",
       "    </tr>\n",
       "    <tr>\n",
       "      <th>1</th>\n",
       "      <td>B</td>\n",
       "      <td>0.798</td>\n",
       "    </tr>\n",
       "    <tr>\n",
       "      <th>2</th>\n",
       "      <td>C</td>\n",
       "      <td>0.799</td>\n",
       "    </tr>\n",
       "    <tr>\n",
       "      <th>3</th>\n",
       "      <td>D</td>\n",
       "      <td>0.524</td>\n",
       "    </tr>\n",
       "    <tr>\n",
       "      <th>4</th>\n",
       "      <td>E</td>\n",
       "      <td>0.596</td>\n",
       "    </tr>\n",
       "  </tbody>\n",
       "</table>\n",
       "</div>"
      ],
      "text/plain": [
       "  rating    auc\n",
       "0      A  0.483\n",
       "1      B  0.798\n",
       "2      C  0.799\n",
       "3      D  0.524\n",
       "4      E  0.596"
      ]
     },
     "execution_count": 8,
     "metadata": {},
     "output_type": "execute_result"
    }
   ],
   "source": [
    "# Segmentação antiga\n",
    "partitioner.calculate_auc_among_segments(df_preds, \"old_segments\")\n",
    "partitioner.calculate_auc_within_segments(df_preds, \"old_segments\")"
   ]
  },
  {
   "cell_type": "code",
   "execution_count": 9,
   "metadata": {},
   "outputs": [
    {
     "name": "stdout",
     "output_type": "stream",
     "text": [
      "AUC among segments:               \n",
      "- Optimal segments: 0.78\n",
      "- Alternative segments: 0.698\n",
      "\n",
      "AUC within segments (mean): 0.62\n"
     ]
    },
    {
     "data": {
      "text/html": [
       "<div>\n",
       "<style scoped>\n",
       "    .dataframe tbody tr th:only-of-type {\n",
       "        vertical-align: middle;\n",
       "    }\n",
       "\n",
       "    .dataframe tbody tr th {\n",
       "        vertical-align: top;\n",
       "    }\n",
       "\n",
       "    .dataframe thead th {\n",
       "        text-align: right;\n",
       "    }\n",
       "</style>\n",
       "<table border=\"1\" class=\"dataframe\">\n",
       "  <thead>\n",
       "    <tr style=\"text-align: right;\">\n",
       "      <th></th>\n",
       "      <th>rating</th>\n",
       "      <th>auc</th>\n",
       "    </tr>\n",
       "  </thead>\n",
       "  <tbody>\n",
       "    <tr>\n",
       "      <th>0</th>\n",
       "      <td>A</td>\n",
       "      <td>0.483</td>\n",
       "    </tr>\n",
       "    <tr>\n",
       "      <th>1</th>\n",
       "      <td>B</td>\n",
       "      <td>0.780</td>\n",
       "    </tr>\n",
       "    <tr>\n",
       "      <th>2</th>\n",
       "      <td>C</td>\n",
       "      <td>0.596</td>\n",
       "    </tr>\n",
       "  </tbody>\n",
       "</table>\n",
       "</div>"
      ],
      "text/plain": [
       "  rating    auc\n",
       "0      A  0.483\n",
       "1      B  0.780\n",
       "2      C  0.596"
      ]
     },
     "execution_count": 9,
     "metadata": {},
     "output_type": "execute_result"
    }
   ],
   "source": [
    "# Segmentação antiga considerando ratings B-C-D como um único\n",
    "partitioner.calculate_auc_among_segments(df_preds, \"old_transformed_segments\")\n",
    "partitioner.calculate_auc_within_segments(df_preds, \"old_transformed_segments\")"
   ]
  },
  {
   "cell_type": "code",
   "execution_count": 10,
   "metadata": {},
   "outputs": [
    {
     "data": {
      "text/plain": [
       "old_transformed_segments\n",
       "A    0.002899\n",
       "B    0.012364\n",
       "C    0.045936\n",
       "Name: target, dtype: float64"
      ]
     },
     "execution_count": 10,
     "metadata": {},
     "output_type": "execute_result"
    }
   ],
   "source": [
    "df_preds.groupby([\"old_transformed_segments\"])[\"target\"].mean()"
   ]
  },
  {
   "cell_type": "code",
   "execution_count": 9,
   "metadata": {},
   "outputs": [
    {
     "data": {
      "text/plain": [
       "optimal_bins  optimal_segments\n",
       "0.020465      1-baixo             0.020465\n",
       "0.080169      2-medio             0.080169\n",
       "0.235088      3-alto              0.235088\n",
       "Name: target, dtype: float64"
      ]
     },
     "execution_count": 9,
     "metadata": {},
     "output_type": "execute_result"
    }
   ],
   "source": [
    "df_preds.groupby([\"optimal_bins\", \"optimal_segments\"])[\"target\"].mean()"
   ]
  },
  {
   "cell_type": "code",
   "execution_count": 13,
   "metadata": {},
   "outputs": [
    {
     "data": {
      "image/png": "[encoded data removed]",
      "text/plain": [
       "<Figure size 432x288 with 2 Axes>"
      ]
     },
     "metadata": {
      "needs_background": "light"
     },
     "output_type": "display_data"
    }
   ],
   "source": [
    "partitioner.binning_table(mode=\"plot\")"
   ]
  },
  {
   "cell_type": "code",
   "execution_count": 12,
   "metadata": {},
   "outputs": [
    {
     "name": "stdout",
     "output_type": "stream",
     "text": [
      "---------------------------------------------\n",
      "OptimalBinning: Binary Binning Table Analysis\n",
      "---------------------------------------------\n",
      "\n",
      "  General metrics\n",
      "\n",
      "    Gini index               0.56452255\n",
      "    IV (Jeffrey)             1.36538633\n",
      "    JS (Jensen-Shannon)      0.15366609\n",
      "    Hellinger                0.16152052\n",
      "    Triangular               0.56355265\n",
      "    KS                       0.49032411\n",
      "    HHI                      0.39385408\n",
      "    HHI (normalized)         0.24231760\n",
      "    Cramer's V               0.31780543\n",
      "    Quality score            0.01119286\n",
      "\n",
      "  Monotonic trend             ascending\n",
      "\n",
      "  Significance tests\n",
      "\n",
      "    Bin A  Bin B  t-statistic      p-value     P[A > B]  P[B > A]\n",
      "        0      1    10.187867 1.413678e-03 1.432947e-04  0.999857\n",
      "        1      2    97.133726 6.479971e-23 1.768614e-34  1.000000\n",
      "\n"
     ]
    },
    {
     "name": "stderr",
     "output_type": "stream",
     "text": [
      "/Users/raquel.camara/opt/anaconda3/lib/python3.9/site-packages/scipy/stats/_continuous_distns.py:624: RuntimeWarning: overflow encountered in _beta_ppf\n",
      "  return _boost._beta_ppf(q, a, b)\n"
     ]
    }
   ],
   "source": [
    "partitioner.binning_table(mode=\"analysis\")"
   ]
  },
  {
   "cell_type": "code",
   "execution_count": null,
   "metadata": {},
   "outputs": [],
   "source": []
  }
 ],
 "metadata": {
  "kernelspec": {
   "display_name": "base",
   "language": "python",
   "name": "python3"
  },
  "language_info": {
   "codemirror_mode": {
    "name": "ipython",
    "version": 3
   },
   "file_extension": ".py",
   "mimetype": "text/x-python",
   "name": "python",
   "nbconvert_exporter": "python",
   "pygments_lexer": "ipython3",
   "version": "3.9.12"
  },
  "orig_nbformat": 4,
  "vscode": {
   "interpreter": {
    "hash": "223ead887b7dcaa75de659872391215d564520fc3b634f5b926bb8a23e5a158e"
   }
  }
 },
 "nbformat": 4,
 "nbformat_minor": 2
}
