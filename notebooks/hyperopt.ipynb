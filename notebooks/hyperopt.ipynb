{
 "cells": [
  {
   "cell_type": "code",
   "execution_count": 1,
   "metadata": {},
   "outputs": [],
   "source": [
    "import os\n",
    "os.chdir('../')"
   ]
  },
  {
   "attachments": {},
   "cell_type": "markdown",
   "metadata": {},
   "source": [
    "## Imports"
   ]
  },
  {
   "cell_type": "code",
   "execution_count": 2,
   "metadata": {},
   "outputs": [],
   "source": [
    "import pandas as pd\n",
    "from lightgbm import LGBMClassifier\n",
    "from sklearn.ensemble import ExtraTreesClassifier\n",
    "\n",
    "from src.develop.grid_search import GridSearch"
   ]
  },
  {
   "attachments": {},
   "cell_type": "markdown",
   "metadata": {},
   "source": [
    "## Data Collect"
   ]
  },
  {
   "cell_type": "code",
   "execution_count": 2,
   "metadata": {},
   "outputs": [
    {
     "name": "stdout",
     "output_type": "stream",
     "text": [
      "(5841, 23)\n"
     ]
    },
    {
     "data": {
      "text/html": [
       "<div>\n",
       "<style scoped>\n",
       "    .dataframe tbody tr th:only-of-type {\n",
       "        vertical-align: middle;\n",
       "    }\n",
       "\n",
       "    .dataframe tbody tr th {\n",
       "        vertical-align: top;\n",
       "    }\n",
       "\n",
       "    .dataframe thead th {\n",
       "        text-align: right;\n",
       "    }\n",
       "</style>\n",
       "<table border=\"1\" class=\"dataframe\">\n",
       "  <thead>\n",
       "    <tr style=\"text-align: right;\">\n",
       "      <th></th>\n",
       "      <th>id_imobiliaria</th>\n",
       "      <th>dt_calendar</th>\n",
       "      <th>n_activated_contracts</th>\n",
       "      <th>ratings_AB</th>\n",
       "      <th>rating_C</th>\n",
       "      <th>rating_D</th>\n",
       "      <th>rating_E</th>\n",
       "      <th>imobiliaria</th>\n",
       "      <th>lat_imob</th>\n",
       "      <th>long_imob</th>\n",
       "      <th>...</th>\n",
       "      <th>avg_locacao_not_churn</th>\n",
       "      <th>avg_days_to_terminate_churn</th>\n",
       "      <th>avg_days_to_terminate_not_churn</th>\n",
       "      <th>n_exon_first_6months</th>\n",
       "      <th>is_debelado</th>\n",
       "      <th>is_indemnified</th>\n",
       "      <th>valor_indenizado</th>\n",
       "      <th>is_commun_first_90days</th>\n",
       "      <th>is_indemn_first_6months</th>\n",
       "      <th>target</th>\n",
       "    </tr>\n",
       "  </thead>\n",
       "  <tbody>\n",
       "    <tr>\n",
       "      <th>0</th>\n",
       "      <td>38</td>\n",
       "      <td>2021-07-01</td>\n",
       "      <td>11.0</td>\n",
       "      <td>0.55</td>\n",
       "      <td>0.27</td>\n",
       "      <td>0.09</td>\n",
       "      <td>0.09</td>\n",
       "      <td>CRISTINA MILANEZ IMOVEIS</td>\n",
       "      <td>-20.31</td>\n",
       "      <td>-40.30</td>\n",
       "      <td>...</td>\n",
       "      <td>1434.77</td>\n",
       "      <td>2.0</td>\n",
       "      <td>454.00</td>\n",
       "      <td>0</td>\n",
       "      <td>42.0</td>\n",
       "      <td>53.0</td>\n",
       "      <td>27543.78</td>\n",
       "      <td>1.0</td>\n",
       "      <td>0.0</td>\n",
       "      <td>0.0</td>\n",
       "    </tr>\n",
       "    <tr>\n",
       "      <th>1</th>\n",
       "      <td>81</td>\n",
       "      <td>2021-07-01</td>\n",
       "      <td>41.0</td>\n",
       "      <td>0.22</td>\n",
       "      <td>0.32</td>\n",
       "      <td>0.17</td>\n",
       "      <td>0.29</td>\n",
       "      <td>GRUPO POPULAR IMOVEIS</td>\n",
       "      <td>-27.60</td>\n",
       "      <td>-48.61</td>\n",
       "      <td>...</td>\n",
       "      <td>1457.19</td>\n",
       "      <td>15.0</td>\n",
       "      <td>366.25</td>\n",
       "      <td>2</td>\n",
       "      <td>5.0</td>\n",
       "      <td>29.0</td>\n",
       "      <td>45372.46</td>\n",
       "      <td>2.0</td>\n",
       "      <td>0.0</td>\n",
       "      <td>0.0</td>\n",
       "    </tr>\n",
       "    <tr>\n",
       "      <th>2</th>\n",
       "      <td>95</td>\n",
       "      <td>2021-07-01</td>\n",
       "      <td>19.0</td>\n",
       "      <td>0.21</td>\n",
       "      <td>0.47</td>\n",
       "      <td>0.16</td>\n",
       "      <td>0.16</td>\n",
       "      <td>PORTAL IMOVEIS</td>\n",
       "      <td>-26.89</td>\n",
       "      <td>-49.08</td>\n",
       "      <td>...</td>\n",
       "      <td>1750.63</td>\n",
       "      <td>0.5</td>\n",
       "      <td>285.00</td>\n",
       "      <td>0</td>\n",
       "      <td>21.0</td>\n",
       "      <td>16.0</td>\n",
       "      <td>18081.72</td>\n",
       "      <td>0.0</td>\n",
       "      <td>0.0</td>\n",
       "      <td>0.0</td>\n",
       "    </tr>\n",
       "    <tr>\n",
       "      <th>3</th>\n",
       "      <td>128</td>\n",
       "      <td>2021-07-01</td>\n",
       "      <td>30.0</td>\n",
       "      <td>0.33</td>\n",
       "      <td>0.37</td>\n",
       "      <td>0.17</td>\n",
       "      <td>0.13</td>\n",
       "      <td>IMOBILIARIA MUCK</td>\n",
       "      <td>-29.92</td>\n",
       "      <td>-51.18</td>\n",
       "      <td>...</td>\n",
       "      <td>1257.27</td>\n",
       "      <td>NaN</td>\n",
       "      <td>321.36</td>\n",
       "      <td>0</td>\n",
       "      <td>30.0</td>\n",
       "      <td>44.0</td>\n",
       "      <td>103170.09</td>\n",
       "      <td>7.0</td>\n",
       "      <td>0.0</td>\n",
       "      <td>0.0</td>\n",
       "    </tr>\n",
       "    <tr>\n",
       "      <th>4</th>\n",
       "      <td>135</td>\n",
       "      <td>2021-07-01</td>\n",
       "      <td>21.0</td>\n",
       "      <td>0.10</td>\n",
       "      <td>0.19</td>\n",
       "      <td>0.33</td>\n",
       "      <td>0.38</td>\n",
       "      <td>NINO IMOVEIS</td>\n",
       "      <td>-29.94</td>\n",
       "      <td>-51.00</td>\n",
       "      <td>...</td>\n",
       "      <td>917.29</td>\n",
       "      <td>NaN</td>\n",
       "      <td>368.29</td>\n",
       "      <td>0</td>\n",
       "      <td>7.0</td>\n",
       "      <td>12.0</td>\n",
       "      <td>17695.20</td>\n",
       "      <td>0.0</td>\n",
       "      <td>0.0</td>\n",
       "      <td>0.0</td>\n",
       "    </tr>\n",
       "  </tbody>\n",
       "</table>\n",
       "<p>5 rows × 23 columns</p>\n",
       "</div>"
      ],
      "text/plain": [
       "   id_imobiliaria dt_calendar  n_activated_contracts  ratings_AB  rating_C  \\\n",
       "0              38  2021-07-01                   11.0        0.55      0.27   \n",
       "1              81  2021-07-01                   41.0        0.22      0.32   \n",
       "2              95  2021-07-01                   19.0        0.21      0.47   \n",
       "3             128  2021-07-01                   30.0        0.33      0.37   \n",
       "4             135  2021-07-01                   21.0        0.10      0.19   \n",
       "\n",
       "   rating_D  rating_E               imobiliaria  lat_imob  long_imob  ...  \\\n",
       "0      0.09      0.09  CRISTINA MILANEZ IMOVEIS    -20.31     -40.30  ...   \n",
       "1      0.17      0.29     GRUPO POPULAR IMOVEIS    -27.60     -48.61  ...   \n",
       "2      0.16      0.16            PORTAL IMOVEIS    -26.89     -49.08  ...   \n",
       "3      0.17      0.13          IMOBILIARIA MUCK    -29.92     -51.18  ...   \n",
       "4      0.33      0.38              NINO IMOVEIS    -29.94     -51.00  ...   \n",
       "\n",
       "   avg_locacao_not_churn  avg_days_to_terminate_churn  \\\n",
       "0                1434.77                          2.0   \n",
       "1                1457.19                         15.0   \n",
       "2                1750.63                          0.5   \n",
       "3                1257.27                          NaN   \n",
       "4                 917.29                          NaN   \n",
       "\n",
       "   avg_days_to_terminate_not_churn  n_exon_first_6months  is_debelado  \\\n",
       "0                           454.00                     0         42.0   \n",
       "1                           366.25                     2          5.0   \n",
       "2                           285.00                     0         21.0   \n",
       "3                           321.36                     0         30.0   \n",
       "4                           368.29                     0          7.0   \n",
       "\n",
       "   is_indemnified  valor_indenizado  is_commun_first_90days  \\\n",
       "0            53.0          27543.78                     1.0   \n",
       "1            29.0          45372.46                     2.0   \n",
       "2            16.0          18081.72                     0.0   \n",
       "3            44.0         103170.09                     7.0   \n",
       "4            12.0          17695.20                     0.0   \n",
       "\n",
       "   is_indemn_first_6months  target  \n",
       "0                      0.0     0.0  \n",
       "1                      0.0     0.0  \n",
       "2                      0.0     0.0  \n",
       "3                      0.0     0.0  \n",
       "4                      0.0     0.0  \n",
       "\n",
       "[5 rows x 23 columns]"
      ]
     },
     "execution_count": 2,
     "metadata": {},
     "output_type": "execute_result"
    }
   ],
   "source": [
    "df_model = pd.read_csv(\"df_model.csv\")\n",
    "df_model[\"dt_calendar\"] = pd.to_datetime(df_model[\"dt_calendar\"])\n",
    "\n",
    "print(df_model.shape)\n",
    "df_model.head()"
   ]
  },
  {
   "attachments": {},
   "cell_type": "markdown",
   "metadata": {},
   "source": [
    "## Grid Search"
   ]
  },
  {
   "cell_type": "code",
   "execution_count": 3,
   "metadata": {},
   "outputs": [],
   "source": [
    "lgbm = LGBMClassifier()\n",
    "et = ExtraTreesClassifier()"
   ]
  },
  {
   "cell_type": "code",
   "execution_count": 4,
   "metadata": {},
   "outputs": [
    {
     "name": "stdout",
     "output_type": "stream",
     "text": [
      "(2885, 9) (2885,)\n",
      "(2885, 9) (2885,)\n"
     ]
    }
   ],
   "source": [
    "grid_et = GridSearch(df=df_model, estimator=\"et\")\n",
    "grid_lgbm = GridSearch(df=df_model, estimator=\"lgbm\")\n",
    "\n",
    "best_params_et = grid_et.fit(cutoff_date=\"2022-07\")\n",
    "best_params_lgbm = grid_lgbm.fit(cutoff_date=\"2022-07\")"
   ]
  },
  {
   "cell_type": "code",
   "execution_count": 5,
   "metadata": {},
   "outputs": [
    {
     "name": "stdout",
     "output_type": "stream",
     "text": [
      "\n",
      "ET: {'bootstrap': True, 'min_samples_leaf': 4, 'n_estimators': 300, 'random_state': 5}\n",
      "LGBM: {'colsample_bytree': 0.5, 'learning_rate': 0.004, 'max_depth': 3, 'metric': 'auc', 'n_estimators': 300, 'objective': 'binary', 'random_state': 5, 'subsample': 0.4}\n",
      "\n"
     ]
    }
   ],
   "source": [
    "print(f\"\"\"\n",
    "ET: {best_params_et}\n",
    "LGBM: {best_params_lgbm}\n",
    "\"\"\")"
   ]
  },
  {
   "cell_type": "code",
   "execution_count": null,
   "metadata": {},
   "outputs": [],
   "source": []
  }
 ],
 "metadata": {
  "kernelspec": {
   "display_name": "Python 3",
   "language": "python",
   "name": "python3"
  },
  "language_info": {
   "codemirror_mode": {
    "name": "ipython",
    "version": 3
   },
   "file_extension": ".py",
   "mimetype": "text/x-python",
   "name": "python",
   "nbconvert_exporter": "python",
   "pygments_lexer": "ipython3",
   "version": "3.8.9"
  },
  "orig_nbformat": 4,
  "vscode": {
   "interpreter": {
    "hash": "31f2aee4e71d21fbe5cf8b01ff0e069b9275f58929596ceb00d14d90e3e16cd6"
   }
  }
 },
 "nbformat": 4,
 "nbformat_minor": 2
}
