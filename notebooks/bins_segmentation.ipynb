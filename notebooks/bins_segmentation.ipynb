{
 "cells": [
  {
   "cell_type": "code",
   "execution_count": 1,
   "metadata": {},
   "outputs": [],
   "source": [
    "import os\n",
    "os.chdir('../')"
   ]
  },
  {
   "cell_type": "code",
   "execution_count": 2,
   "metadata": {},
   "outputs": [],
   "source": [
    "import numpy as np\n",
    "import pandas as pd\n",
    "\n",
    "from sklearn.metrics import roc_auc_score\n",
    "from src.utils import flatten, get_segments\n",
    "from src.segmentation import ImobsSegmentation"
   ]
  },
  {
   "cell_type": "code",
   "execution_count": 3,
   "metadata": {},
   "outputs": [
    {
     "data": {
      "text/html": [
       "<div>\n",
       "<style scoped>\n",
       "    .dataframe tbody tr th:only-of-type {\n",
       "        vertical-align: middle;\n",
       "    }\n",
       "\n",
       "    .dataframe tbody tr th {\n",
       "        vertical-align: top;\n",
       "    }\n",
       "\n",
       "    .dataframe thead th {\n",
       "        text-align: right;\n",
       "    }\n",
       "</style>\n",
       "<table border=\"1\" class=\"dataframe\">\n",
       "  <thead>\n",
       "    <tr style=\"text-align: right;\">\n",
       "      <th></th>\n",
       "      <th>dt_ativacao</th>\n",
       "      <th>id_imobiliaria</th>\n",
       "      <th>predictions</th>\n",
       "      <th>target</th>\n",
       "      <th>old_segments</th>\n",
       "    </tr>\n",
       "  </thead>\n",
       "  <tbody>\n",
       "    <tr>\n",
       "      <th>0</th>\n",
       "      <td>2022-01</td>\n",
       "      <td>38</td>\n",
       "      <td>0.033534</td>\n",
       "      <td>0</td>\n",
       "      <td>B</td>\n",
       "    </tr>\n",
       "    <tr>\n",
       "      <th>1</th>\n",
       "      <td>2022-01</td>\n",
       "      <td>50</td>\n",
       "      <td>0.033887</td>\n",
       "      <td>0</td>\n",
       "      <td>B</td>\n",
       "    </tr>\n",
       "    <tr>\n",
       "      <th>2</th>\n",
       "      <td>2022-01</td>\n",
       "      <td>63</td>\n",
       "      <td>0.031284</td>\n",
       "      <td>0</td>\n",
       "      <td>A</td>\n",
       "    </tr>\n",
       "    <tr>\n",
       "      <th>3</th>\n",
       "      <td>2022-01</td>\n",
       "      <td>81</td>\n",
       "      <td>0.135855</td>\n",
       "      <td>0</td>\n",
       "      <td>E</td>\n",
       "    </tr>\n",
       "    <tr>\n",
       "      <th>4</th>\n",
       "      <td>2022-01</td>\n",
       "      <td>95</td>\n",
       "      <td>0.097252</td>\n",
       "      <td>0</td>\n",
       "      <td>E</td>\n",
       "    </tr>\n",
       "  </tbody>\n",
       "</table>\n",
       "</div>"
      ],
      "text/plain": [
       "  dt_ativacao  id_imobiliaria  predictions  target old_segments\n",
       "0     2022-01              38     0.033534       0            B\n",
       "1     2022-01              50     0.033887       0            B\n",
       "2     2022-01              63     0.031284       0            A\n",
       "3     2022-01              81     0.135855       0            E\n",
       "4     2022-01              95     0.097252       0            E"
      ]
     },
     "execution_count": 3,
     "metadata": {},
     "output_type": "execute_result"
    }
   ],
   "source": [
    "df_preds = (\n",
    "    pd.read_csv(\"notebooks/outputs/df_preds.csv\")\n",
    "    .rename(columns={ \"dt_calendar\": \"dt_ativacao\"})\n",
    ")\n",
    "df_preds[\"dt_ativacao\"] = pd.to_datetime(df_preds[\"dt_ativacao\"]).dt.strftime(\"%Y-%m\")\n",
    "\n",
    "df_preds.head()"
   ]
  },
  {
   "cell_type": "code",
   "execution_count": 4,
   "metadata": {},
   "outputs": [
    {
     "data": {
      "text/plain": [
       "OptimalBinning(gamma=0.5, max_n_bins=3, name='score_imobiliaria', solver='mip')"
      ]
     },
     "execution_count": 4,
     "metadata": {},
     "output_type": "execute_result"
    }
   ],
   "source": [
    "partitioner = ImobsSegmentation()\n",
    "partitioner.fit(df_preds)"
   ]
  },
  {
   "cell_type": "code",
   "execution_count": 5,
   "metadata": {},
   "outputs": [
    {
     "name": "stdout",
     "output_type": "stream",
     "text": [
      "Splits: [0.03395527 0.05592736]\n"
     ]
    },
    {
     "data": {
      "text/html": [
       "<div>\n",
       "<style scoped>\n",
       "    .dataframe tbody tr th:only-of-type {\n",
       "        vertical-align: middle;\n",
       "    }\n",
       "\n",
       "    .dataframe tbody tr th {\n",
       "        vertical-align: top;\n",
       "    }\n",
       "\n",
       "    .dataframe thead th {\n",
       "        text-align: right;\n",
       "    }\n",
       "</style>\n",
       "<table border=\"1\" class=\"dataframe\">\n",
       "  <thead>\n",
       "    <tr style=\"text-align: right;\">\n",
       "      <th></th>\n",
       "      <th>Bin</th>\n",
       "      <th>Count</th>\n",
       "      <th>Count (%)</th>\n",
       "      <th>Non-event</th>\n",
       "      <th>Event</th>\n",
       "      <th>Event rate</th>\n",
       "      <th>WoE</th>\n",
       "      <th>IV</th>\n",
       "      <th>JS</th>\n",
       "    </tr>\n",
       "  </thead>\n",
       "  <tbody>\n",
       "    <tr>\n",
       "      <th>0</th>\n",
       "      <td>(-inf, 0.03)</td>\n",
       "      <td>1103</td>\n",
       "      <td>0.482502</td>\n",
       "      <td>1101</td>\n",
       "      <td>2</td>\n",
       "      <td>0.001813</td>\n",
       "      <td>2.379893</td>\n",
       "      <td>1.060539</td>\n",
       "      <td>0.108112</td>\n",
       "    </tr>\n",
       "    <tr>\n",
       "      <th>1</th>\n",
       "      <td>[0.03, 0.06)</td>\n",
       "      <td>717</td>\n",
       "      <td>0.313648</td>\n",
       "      <td>701</td>\n",
       "      <td>16</td>\n",
       "      <td>0.022315</td>\n",
       "      <td>-0.151015</td>\n",
       "      <td>0.007697</td>\n",
       "      <td>0.000961</td>\n",
       "    </tr>\n",
       "    <tr>\n",
       "      <th>2</th>\n",
       "      <td>[0.06, inf)</td>\n",
       "      <td>466</td>\n",
       "      <td>0.203850</td>\n",
       "      <td>440</td>\n",
       "      <td>26</td>\n",
       "      <td>0.055794</td>\n",
       "      <td>-1.102256</td>\n",
       "      <td>0.435012</td>\n",
       "      <td>0.051781</td>\n",
       "    </tr>\n",
       "    <tr>\n",
       "      <th>3</th>\n",
       "      <td>Special</td>\n",
       "      <td>0</td>\n",
       "      <td>0.000000</td>\n",
       "      <td>0</td>\n",
       "      <td>0</td>\n",
       "      <td>0.000000</td>\n",
       "      <td>0.0</td>\n",
       "      <td>0.000000</td>\n",
       "      <td>0.000000</td>\n",
       "    </tr>\n",
       "    <tr>\n",
       "      <th>4</th>\n",
       "      <td>Missing</td>\n",
       "      <td>0</td>\n",
       "      <td>0.000000</td>\n",
       "      <td>0</td>\n",
       "      <td>0</td>\n",
       "      <td>0.000000</td>\n",
       "      <td>0.0</td>\n",
       "      <td>0.000000</td>\n",
       "      <td>0.000000</td>\n",
       "    </tr>\n",
       "    <tr>\n",
       "      <th>Totals</th>\n",
       "      <td></td>\n",
       "      <td>2286</td>\n",
       "      <td>1.000000</td>\n",
       "      <td>2242</td>\n",
       "      <td>44</td>\n",
       "      <td>0.019248</td>\n",
       "      <td></td>\n",
       "      <td>1.503248</td>\n",
       "      <td>0.160854</td>\n",
       "    </tr>\n",
       "  </tbody>\n",
       "</table>\n",
       "</div>"
      ],
      "text/plain": [
       "                 Bin  Count  Count (%)  Non-event  Event  Event rate  \\\n",
       "0       (-inf, 0.03)   1103   0.482502       1101      2    0.001813   \n",
       "1       [0.03, 0.06)    717   0.313648        701     16    0.022315   \n",
       "2        [0.06, inf)    466   0.203850        440     26    0.055794   \n",
       "3            Special      0   0.000000          0      0    0.000000   \n",
       "4            Missing      0   0.000000          0      0    0.000000   \n",
       "Totals                 2286   1.000000       2242     44    0.019248   \n",
       "\n",
       "             WoE        IV        JS  \n",
       "0       2.379893  1.060539  0.108112  \n",
       "1      -0.151015  0.007697  0.000961  \n",
       "2      -1.102256  0.435012  0.051781  \n",
       "3            0.0  0.000000  0.000000  \n",
       "4            0.0  0.000000  0.000000  \n",
       "Totals            1.503248  0.160854  "
      ]
     },
     "execution_count": 5,
     "metadata": {},
     "output_type": "execute_result"
    }
   ],
   "source": [
    "print(f\"Splits: {partitioner.splits}\")\n",
    "partitioner.binning_table()"
   ]
  },
  {
   "cell_type": "code",
   "execution_count": 6,
   "metadata": {},
   "outputs": [
    {
     "data": {
      "text/html": [
       "<div>\n",
       "<style scoped>\n",
       "    .dataframe tbody tr th:only-of-type {\n",
       "        vertical-align: middle;\n",
       "    }\n",
       "\n",
       "    .dataframe tbody tr th {\n",
       "        vertical-align: top;\n",
       "    }\n",
       "\n",
       "    .dataframe thead th {\n",
       "        text-align: right;\n",
       "    }\n",
       "</style>\n",
       "<table border=\"1\" class=\"dataframe\">\n",
       "  <thead>\n",
       "    <tr style=\"text-align: right;\">\n",
       "      <th></th>\n",
       "      <th>dt_ativacao</th>\n",
       "      <th>id_imobiliaria</th>\n",
       "      <th>predictions</th>\n",
       "      <th>target</th>\n",
       "      <th>old_segments</th>\n",
       "      <th>optimal_bins</th>\n",
       "      <th>optimal_segments</th>\n",
       "      <th>old_transformed_segments</th>\n",
       "    </tr>\n",
       "  </thead>\n",
       "  <tbody>\n",
       "    <tr>\n",
       "      <th>0</th>\n",
       "      <td>2022-01</td>\n",
       "      <td>38</td>\n",
       "      <td>0.033534</td>\n",
       "      <td>0</td>\n",
       "      <td>B</td>\n",
       "      <td>0.001813</td>\n",
       "      <td>1-baixo</td>\n",
       "      <td>B</td>\n",
       "    </tr>\n",
       "    <tr>\n",
       "      <th>1</th>\n",
       "      <td>2022-01</td>\n",
       "      <td>50</td>\n",
       "      <td>0.033887</td>\n",
       "      <td>0</td>\n",
       "      <td>B</td>\n",
       "      <td>0.001813</td>\n",
       "      <td>1-baixo</td>\n",
       "      <td>B</td>\n",
       "    </tr>\n",
       "    <tr>\n",
       "      <th>2</th>\n",
       "      <td>2022-01</td>\n",
       "      <td>63</td>\n",
       "      <td>0.031284</td>\n",
       "      <td>0</td>\n",
       "      <td>A</td>\n",
       "      <td>0.001813</td>\n",
       "      <td>1-baixo</td>\n",
       "      <td>A</td>\n",
       "    </tr>\n",
       "    <tr>\n",
       "      <th>3</th>\n",
       "      <td>2022-01</td>\n",
       "      <td>81</td>\n",
       "      <td>0.135855</td>\n",
       "      <td>0</td>\n",
       "      <td>E</td>\n",
       "      <td>0.055794</td>\n",
       "      <td>3-alto</td>\n",
       "      <td>C</td>\n",
       "    </tr>\n",
       "    <tr>\n",
       "      <th>4</th>\n",
       "      <td>2022-01</td>\n",
       "      <td>95</td>\n",
       "      <td>0.097252</td>\n",
       "      <td>0</td>\n",
       "      <td>E</td>\n",
       "      <td>0.055794</td>\n",
       "      <td>3-alto</td>\n",
       "      <td>C</td>\n",
       "    </tr>\n",
       "  </tbody>\n",
       "</table>\n",
       "</div>"
      ],
      "text/plain": [
       "  dt_ativacao  id_imobiliaria  predictions  target old_segments  optimal_bins  \\\n",
       "0     2022-01              38     0.033534       0            B      0.001813   \n",
       "1     2022-01              50     0.033887       0            B      0.001813   \n",
       "2     2022-01              63     0.031284       0            A      0.001813   \n",
       "3     2022-01              81     0.135855       0            E      0.055794   \n",
       "4     2022-01              95     0.097252       0            E      0.055794   \n",
       "\n",
       "  optimal_segments old_transformed_segments  \n",
       "0          1-baixo                        B  \n",
       "1          1-baixo                        B  \n",
       "2          1-baixo                        A  \n",
       "3           3-alto                        C  \n",
       "4           3-alto                        C  "
      ]
     },
     "execution_count": 6,
     "metadata": {},
     "output_type": "execute_result"
    }
   ],
   "source": [
    "df_preds = partitioner.get_optimal_segments(df_preds)\n",
    "\n",
    "df_preds[\"old_transformed_segments\"] = (\n",
    "    df_preds[\"old_segments\"]\n",
    "    .replace(['B', 'C', 'D'],'B')\n",
    "    .replace('E', 'C')\n",
    ")\n",
    "\n",
    "df_preds.head()"
   ]
  },
  {
   "cell_type": "code",
   "execution_count": 7,
   "metadata": {},
   "outputs": [],
   "source": [
    "df_preds.to_csv(f\"notebooks/outputs/df_bins.csv\", index=False)"
   ]
  },
  {
   "cell_type": "code",
   "execution_count": 8,
   "metadata": {},
   "outputs": [
    {
     "name": "stdout",
     "output_type": "stream",
     "text": [
      "AUC among segments:               \n",
      "- Optimal segments: 0.78\n",
      "\n",
      "AUC within segments (mean): 0.502\n"
     ]
    },
    {
     "data": {
      "text/html": [
       "<div>\n",
       "<style scoped>\n",
       "    .dataframe tbody tr th:only-of-type {\n",
       "        vertical-align: middle;\n",
       "    }\n",
       "\n",
       "    .dataframe tbody tr th {\n",
       "        vertical-align: top;\n",
       "    }\n",
       "\n",
       "    .dataframe thead th {\n",
       "        text-align: right;\n",
       "    }\n",
       "</style>\n",
       "<table border=\"1\" class=\"dataframe\">\n",
       "  <thead>\n",
       "    <tr style=\"text-align: right;\">\n",
       "      <th></th>\n",
       "      <th>rating</th>\n",
       "      <th>auc</th>\n",
       "    </tr>\n",
       "  </thead>\n",
       "  <tbody>\n",
       "    <tr>\n",
       "      <th>0</th>\n",
       "      <td>0.001813</td>\n",
       "      <td>0.522</td>\n",
       "    </tr>\n",
       "    <tr>\n",
       "      <th>1</th>\n",
       "      <td>0.022315</td>\n",
       "      <td>0.470</td>\n",
       "    </tr>\n",
       "    <tr>\n",
       "      <th>2</th>\n",
       "      <td>0.055794</td>\n",
       "      <td>0.513</td>\n",
       "    </tr>\n",
       "  </tbody>\n",
       "</table>\n",
       "</div>"
      ],
      "text/plain": [
       "     rating    auc\n",
       "0  0.001813  0.522\n",
       "1  0.022315  0.470\n",
       "2  0.055794  0.513"
      ]
     },
     "execution_count": 8,
     "metadata": {},
     "output_type": "execute_result"
    }
   ],
   "source": [
    "# Segmentação ótima\n",
    "partitioner.calculate_auc_among_segments(df_preds)\n",
    "partitioner.calculate_auc_within_segments(df_preds, \"optimal_bins\")"
   ]
  },
  {
   "cell_type": "code",
   "execution_count": 8,
   "metadata": {},
   "outputs": [
    {
     "name": "stdout",
     "output_type": "stream",
     "text": [
      "AUC among segments:               \n",
      "- Optimal segments: 0.78\n",
      "- Alternative segments: 0.758\n",
      "\n",
      "AUC within segments (mean): 0.64\n"
     ]
    },
    {
     "data": {
      "text/html": [
       "<div>\n",
       "<style scoped>\n",
       "    .dataframe tbody tr th:only-of-type {\n",
       "        vertical-align: middle;\n",
       "    }\n",
       "\n",
       "    .dataframe tbody tr th {\n",
       "        vertical-align: top;\n",
       "    }\n",
       "\n",
       "    .dataframe thead th {\n",
       "        text-align: right;\n",
       "    }\n",
       "</style>\n",
       "<table border=\"1\" class=\"dataframe\">\n",
       "  <thead>\n",
       "    <tr style=\"text-align: right;\">\n",
       "      <th></th>\n",
       "      <th>rating</th>\n",
       "      <th>auc</th>\n",
       "    </tr>\n",
       "  </thead>\n",
       "  <tbody>\n",
       "    <tr>\n",
       "      <th>0</th>\n",
       "      <td>A</td>\n",
       "      <td>0.483</td>\n",
       "    </tr>\n",
       "    <tr>\n",
       "      <th>1</th>\n",
       "      <td>B</td>\n",
       "      <td>0.798</td>\n",
       "    </tr>\n",
       "    <tr>\n",
       "      <th>2</th>\n",
       "      <td>C</td>\n",
       "      <td>0.799</td>\n",
       "    </tr>\n",
       "    <tr>\n",
       "      <th>3</th>\n",
       "      <td>D</td>\n",
       "      <td>0.524</td>\n",
       "    </tr>\n",
       "    <tr>\n",
       "      <th>4</th>\n",
       "      <td>E</td>\n",
       "      <td>0.596</td>\n",
       "    </tr>\n",
       "  </tbody>\n",
       "</table>\n",
       "</div>"
      ],
      "text/plain": [
       "  rating    auc\n",
       "0      A  0.483\n",
       "1      B  0.798\n",
       "2      C  0.799\n",
       "3      D  0.524\n",
       "4      E  0.596"
      ]
     },
     "execution_count": 8,
     "metadata": {},
     "output_type": "execute_result"
    }
   ],
   "source": [
    "# Segmentação antiga\n",
    "partitioner.calculate_auc_among_segments(df_preds, \"old_segments\")\n",
    "partitioner.calculate_auc_within_segments(df_preds, \"old_segments\")"
   ]
  },
  {
   "cell_type": "code",
   "execution_count": 9,
   "metadata": {},
   "outputs": [
    {
     "name": "stdout",
     "output_type": "stream",
     "text": [
      "AUC among segments:               \n",
      "- Optimal segments: 0.78\n",
      "- Alternative segments: 0.698\n",
      "\n",
      "AUC within segments (mean): 0.62\n"
     ]
    },
    {
     "data": {
      "text/html": [
       "<div>\n",
       "<style scoped>\n",
       "    .dataframe tbody tr th:only-of-type {\n",
       "        vertical-align: middle;\n",
       "    }\n",
       "\n",
       "    .dataframe tbody tr th {\n",
       "        vertical-align: top;\n",
       "    }\n",
       "\n",
       "    .dataframe thead th {\n",
       "        text-align: right;\n",
       "    }\n",
       "</style>\n",
       "<table border=\"1\" class=\"dataframe\">\n",
       "  <thead>\n",
       "    <tr style=\"text-align: right;\">\n",
       "      <th></th>\n",
       "      <th>rating</th>\n",
       "      <th>auc</th>\n",
       "    </tr>\n",
       "  </thead>\n",
       "  <tbody>\n",
       "    <tr>\n",
       "      <th>0</th>\n",
       "      <td>A</td>\n",
       "      <td>0.483</td>\n",
       "    </tr>\n",
       "    <tr>\n",
       "      <th>1</th>\n",
       "      <td>B</td>\n",
       "      <td>0.780</td>\n",
       "    </tr>\n",
       "    <tr>\n",
       "      <th>2</th>\n",
       "      <td>C</td>\n",
       "      <td>0.596</td>\n",
       "    </tr>\n",
       "  </tbody>\n",
       "</table>\n",
       "</div>"
      ],
      "text/plain": [
       "  rating    auc\n",
       "0      A  0.483\n",
       "1      B  0.780\n",
       "2      C  0.596"
      ]
     },
     "execution_count": 9,
     "metadata": {},
     "output_type": "execute_result"
    }
   ],
   "source": [
    "# Segmentação antiga considerando ratings B-C-D como um único\n",
    "partitioner.calculate_auc_among_segments(df_preds, \"old_transformed_segments\")\n",
    "partitioner.calculate_auc_within_segments(df_preds, \"old_transformed_segments\")"
   ]
  },
  {
   "cell_type": "code",
   "execution_count": 10,
   "metadata": {},
   "outputs": [
    {
     "data": {
      "text/plain": [
       "old_transformed_segments\n",
       "A    0.002899\n",
       "B    0.012364\n",
       "C    0.045936\n",
       "Name: target, dtype: float64"
      ]
     },
     "execution_count": 10,
     "metadata": {},
     "output_type": "execute_result"
    }
   ],
   "source": [
    "df_preds.groupby([\"old_transformed_segments\"])[\"target\"].mean()"
   ]
  },
  {
   "cell_type": "code",
   "execution_count": 11,
   "metadata": {},
   "outputs": [
    {
     "data": {
      "text/plain": [
       "optimal_bins  optimal_segments\n",
       "0.001813      baixo               0.001813\n",
       "0.022315      medio               0.022315\n",
       "0.055794      alto                0.055794\n",
       "Name: target, dtype: float64"
      ]
     },
     "execution_count": 11,
     "metadata": {},
     "output_type": "execute_result"
    }
   ],
   "source": [
    "df_preds.groupby([\"optimal_bins\", \"optimal_segments\"])[\"target\"].mean()"
   ]
  },
  {
   "cell_type": "code",
   "execution_count": 12,
   "metadata": {},
   "outputs": [
    {
     "data": {
      "image/png": "[encoded data removed]",
      "text/plain": [
       "<Figure size 432x288 with 2 Axes>"
      ]
     },
     "metadata": {
      "needs_background": "light"
     },
     "output_type": "display_data"
    }
   ],
   "source": [
    "partitioner.binning_table(mode=\"plot\")"
   ]
  },
  {
   "cell_type": "code",
   "execution_count": 13,
   "metadata": {},
   "outputs": [
    {
     "name": "stdout",
     "output_type": "stream",
     "text": [
      "---------------------------------------------\n",
      "OptimalBinning: Binary Binning Table Analysis\n",
      "---------------------------------------------\n",
      "\n",
      "  General metrics\n",
      "\n",
      "    Gini index               0.55901792\n",
      "    IV (Jeffrey)             1.50324812\n",
      "    JS (Jensen-Shannon)      0.16085394\n",
      "    Hellinger                0.17286450\n",
      "    Triangular               0.57182704\n",
      "    KS                       0.44562485\n",
      "    HHI                      0.37273824\n",
      "    HHI (normalized)         0.21592280\n",
      "    Cramer's V               0.14949509\n",
      "    Quality score            0.00360430\n",
      "\n",
      "  Monotonic trend             ascending\n",
      "\n",
      "  Significance tests\n",
      "\n",
      "    Bin A  Bin B  t-statistic  p-value  P[A > B]  P[B > A]\n",
      "        0      1    18.652187 0.000016  0.000002  0.999998\n",
      "        1      2     9.244733 0.002362  0.001106  0.998894\n",
      "\n"
     ]
    },
    {
     "name": "stderr",
     "output_type": "stream",
     "text": [
      "/Users/raquel.camara/opt/anaconda3/lib/python3.9/site-packages/scipy/stats/_continuous_distns.py:624: RuntimeWarning: overflow encountered in _beta_ppf\n",
      "  return _boost._beta_ppf(q, a, b)\n"
     ]
    }
   ],
   "source": [
    "partitioner.binning_table(mode=\"analysis\")"
   ]
  },
  {
   "cell_type": "code",
   "execution_count": null,
   "metadata": {},
   "outputs": [],
   "source": []
  }
 ],
 "metadata": {
  "kernelspec": {
   "display_name": "base",
   "language": "python",
   "name": "python3"
  },
  "language_info": {
   "codemirror_mode": {
    "name": "ipython",
    "version": 3
   },
   "file_extension": ".py",
   "mimetype": "text/x-python",
   "name": "python",
   "nbconvert_exporter": "python",
   "pygments_lexer": "ipython3",
   "version": "3.9.12"
  },
  "orig_nbformat": 4,
  "vscode": {
   "interpreter": {
    "hash": "223ead887b7dcaa75de659872391215d564520fc3b634f5b926bb8a23e5a158e"
   }
  }
 },
 "nbformat": 4,
 "nbformat_minor": 2
}
