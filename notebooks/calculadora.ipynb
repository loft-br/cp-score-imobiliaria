{
 "cells": [
  {
   "cell_type": "code",
   "execution_count": 1,
   "metadata": {},
   "outputs": [],
   "source": [
    "import os\n",
    "os.chdir('../')"
   ]
  },
  {
   "attachments": {},
   "cell_type": "markdown",
   "metadata": {},
   "source": [
    "## Imports"
   ]
  },
  {
   "cell_type": "code",
   "execution_count": 2,
   "metadata": {},
   "outputs": [],
   "source": [
    "import pandas as pd\n",
    "import datetime as dt\n",
    "\n",
    "from risk_suite.economics import EconomicsCalculator"
   ]
  },
  {
   "attachments": {},
   "cell_type": "markdown",
   "metadata": {},
   "source": [
    "## Data Collect"
   ]
  },
  {
   "attachments": {},
   "cell_type": "markdown",
   "metadata": {},
   "source": [
    "#### Score Imobiliária"
   ]
  },
  {
   "cell_type": "code",
   "execution_count": 3,
   "metadata": {},
   "outputs": [],
   "source": [
    "all_preds = []\n",
    "\n",
    "for month in range(1, 7):\n",
    "    all_preds.append(f\"notebooks/outputs/df_preds_20220{month}.csv\")\n",
    "\n",
    "df_preds = (\n",
    "    pd.concat([pd.read_csv(f) for f in all_preds ])\n",
    "    [[\"dt_calendar\", \"id_imobiliaria\", \"segments\"]]\n",
    "    .rename(columns={\"dt_calendar\": \"dt_ativacao\"})\n",
    ")\n",
    "\n",
    "df_preds[\"dt_ativacao\"] = pd.to_datetime(df_preds[\"dt_ativacao\"]).dt.strftime(\"%Y-%m\")"
   ]
  },
  {
   "cell_type": "code",
   "execution_count": 4,
   "metadata": {},
   "outputs": [],
   "source": [
    "info_contracts = (\n",
    "    pd.read_csv(\"data/info_contracts.csv\")[[\"dt_ativacao\", \"id_imobiliaria\", \"id_contrato\"]]\n",
    "    .rename(columns={\"id_contrato\": \"contract_id\"})\n",
    ")\n",
    "\n",
    "info_contracts[\"dt_ativacao\"] = (pd.to_datetime(info_contracts[\"dt_ativacao\"]).dt.strftime(\"%Y-%m\"))"
   ]
  },
  {
   "cell_type": "code",
   "execution_count": 5,
   "metadata": {},
   "outputs": [
    {
     "data": {
      "text/html": [
       "<div>\n",
       "<style scoped>\n",
       "    .dataframe tbody tr th:only-of-type {\n",
       "        vertical-align: middle;\n",
       "    }\n",
       "\n",
       "    .dataframe tbody tr th {\n",
       "        vertical-align: top;\n",
       "    }\n",
       "\n",
       "    .dataframe thead th {\n",
       "        text-align: right;\n",
       "    }\n",
       "</style>\n",
       "<table border=\"1\" class=\"dataframe\">\n",
       "  <thead>\n",
       "    <tr style=\"text-align: right;\">\n",
       "      <th></th>\n",
       "      <th>dt_ativacao</th>\n",
       "      <th>id_imobiliaria</th>\n",
       "      <th>contract_id</th>\n",
       "      <th>segments</th>\n",
       "    </tr>\n",
       "  </thead>\n",
       "  <tbody>\n",
       "    <tr>\n",
       "      <th>0</th>\n",
       "      <td>2022-01</td>\n",
       "      <td>38</td>\n",
       "      <td>472480</td>\n",
       "      <td>B</td>\n",
       "    </tr>\n",
       "    <tr>\n",
       "      <th>1</th>\n",
       "      <td>2022-01</td>\n",
       "      <td>38</td>\n",
       "      <td>473211</td>\n",
       "      <td>B</td>\n",
       "    </tr>\n",
       "    <tr>\n",
       "      <th>2</th>\n",
       "      <td>2022-01</td>\n",
       "      <td>38</td>\n",
       "      <td>477113</td>\n",
       "      <td>B</td>\n",
       "    </tr>\n",
       "    <tr>\n",
       "      <th>3</th>\n",
       "      <td>2022-01</td>\n",
       "      <td>38</td>\n",
       "      <td>479053</td>\n",
       "      <td>B</td>\n",
       "    </tr>\n",
       "    <tr>\n",
       "      <th>4</th>\n",
       "      <td>2022-01</td>\n",
       "      <td>38</td>\n",
       "      <td>479355</td>\n",
       "      <td>B</td>\n",
       "    </tr>\n",
       "    <tr>\n",
       "      <th>...</th>\n",
       "      <td>...</td>\n",
       "      <td>...</td>\n",
       "      <td>...</td>\n",
       "      <td>...</td>\n",
       "    </tr>\n",
       "    <tr>\n",
       "      <th>35243</th>\n",
       "      <td>2022-05</td>\n",
       "      <td>28927</td>\n",
       "      <td>617454</td>\n",
       "      <td>A</td>\n",
       "    </tr>\n",
       "    <tr>\n",
       "      <th>35244</th>\n",
       "      <td>2022-06</td>\n",
       "      <td>28927</td>\n",
       "      <td>641306</td>\n",
       "      <td>A</td>\n",
       "    </tr>\n",
       "    <tr>\n",
       "      <th>35245</th>\n",
       "      <td>2022-06</td>\n",
       "      <td>28927</td>\n",
       "      <td>650933</td>\n",
       "      <td>A</td>\n",
       "    </tr>\n",
       "    <tr>\n",
       "      <th>35246</th>\n",
       "      <td>2022-06</td>\n",
       "      <td>28927</td>\n",
       "      <td>657806</td>\n",
       "      <td>A</td>\n",
       "    </tr>\n",
       "    <tr>\n",
       "      <th>35247</th>\n",
       "      <td>2022-06</td>\n",
       "      <td>28927</td>\n",
       "      <td>665323</td>\n",
       "      <td>A</td>\n",
       "    </tr>\n",
       "  </tbody>\n",
       "</table>\n",
       "<p>35248 rows × 4 columns</p>\n",
       "</div>"
      ],
      "text/plain": [
       "      dt_ativacao  id_imobiliaria  contract_id segments\n",
       "0         2022-01              38       472480        B\n",
       "1         2022-01              38       473211        B\n",
       "2         2022-01              38       477113        B\n",
       "3         2022-01              38       479053        B\n",
       "4         2022-01              38       479355        B\n",
       "...           ...             ...          ...      ...\n",
       "35243     2022-05           28927       617454        A\n",
       "35244     2022-06           28927       641306        A\n",
       "35245     2022-06           28927       650933        A\n",
       "35246     2022-06           28927       657806        A\n",
       "35247     2022-06           28927       665323        A\n",
       "\n",
       "[35248 rows x 4 columns]"
      ]
     },
     "execution_count": 5,
     "metadata": {},
     "output_type": "execute_result"
    }
   ],
   "source": [
    "df = info_contracts.merge(df_preds, on=[\"dt_ativacao\", \"id_imobiliaria\"])\n",
    "df"
   ]
  },
  {
   "attachments": {},
   "cell_type": "markdown",
   "metadata": {},
   "source": [
    "#### Calculadora"
   ]
  },
  {
   "cell_type": "code",
   "execution_count": 6,
   "metadata": {},
   "outputs": [],
   "source": [
    "contracts = pd.read_parquet('../risk_suite/data/contracts.parquet')\n",
    "defaults = pd.read_parquet('../risk_suite/data/defaults.parquet')\n",
    "recoveries = pd.read_parquet('../risk_suite/data/recoveries.parquet')\n",
    "revenues = pd.read_parquet('../risk_suite/data/revenues.parquet')\n",
    "\n",
    "base_features = [\n",
    "    'contract_id',\n",
    "    'activation_date',\n",
    "    'churn_date',\n",
    "    'activation_month',\n",
    "    'activation_quarter',\n",
    "    'score_serasa',\n",
    "    'rating',\n",
    "    'rental_value',\n",
    "]\n",
    "\n",
    "contracts = contracts[base_features]\n",
    "contracts = contracts.dropna(subset=['activation_date', 'rating'])\n",
    "contracts = contracts.loc[lambda x: x['activation_quarter'] >= pd.Period('2020Q1')]\n",
    "contracts = contracts.replace(['E1', 'E2', 'E3'], 'E')"
   ]
  },
  {
   "attachments": {},
   "cell_type": "markdown",
   "metadata": {},
   "source": [
    "## Auxiliary Functions"
   ]
  },
  {
   "cell_type": "code",
   "execution_count": 7,
   "metadata": {},
   "outputs": [],
   "source": [
    "def report_economics2(aggkeys, revenues_pivot, defaults_pivot, recoveries_pivot):\n",
    "\n",
    "    economics_df = pd.DataFrame(\n",
    "        {\n",
    "            'n_contracts': revenues_pivot.groupby(aggkeys).size(),\n",
    "            'revenue_value': (revenues_pivot.sum(axis=1)).groupby(aggkeys).mean(),\n",
    "            'prob_default': (defaults_pivot.sum(axis=1) > 0).groupby(aggkeys).mean(),\n",
    "            'default_value': (defaults_pivot.sum(axis=1)).groupby(aggkeys).mean(),\n",
    "            'recovery_value': (recoveries_pivot.sum(axis=1)).groupby(aggkeys).mean()\n",
    "        }\n",
    "    )\n",
    "\n",
    "    economics_df = (\n",
    "        economics_df\n",
    "        .assign(recovery_efficiency=lambda x: x['recovery_value'] / x['default_value'])\n",
    "        .assign(unit_economics=lambda x: x['revenue_value'] - x['default_value'] + x['recovery_value'])\n",
    "        .assign(aggregate_margin=lambda x: x['unit_economics'] * x['n_contracts'])\n",
    "    )\n",
    "\n",
    "    return economics_df.sort_index(ascending=[True, False])"
   ]
  },
  {
   "attachments": {},
   "cell_type": "markdown",
   "metadata": {},
   "source": [
    "## Economics report"
   ]
  },
  {
   "cell_type": "code",
   "execution_count": 8,
   "metadata": {},
   "outputs": [],
   "source": [
    "df = contracts.merge(df, on=\"contract_id\")"
   ]
  },
  {
   "cell_type": "code",
   "execution_count": 9,
   "metadata": {},
   "outputs": [
    {
     "name": "stderr",
     "output_type": "stream",
     "text": [
      "/Users/raquel.camara/opt/anaconda3/lib/python3.9/site-packages/risk_suite/economics.py:139: FutureWarning: pivot_table dropped a column because it failed to aggregate. This behavior is deprecated and will raise in a future version of pandas. Select only the columns that can be aggregated.\n",
      "  event_data\n"
     ]
    }
   ],
   "source": [
    "econ_calculator = EconomicsCalculator(df, defaults, recoveries, revenues, max_history_date='2023-01')\n",
    "\n",
    "defaults_pivot = econ_calculator._build_defaults_pivot()\n",
    "recoveries_pivot = econ_calculator._build_recoveries_pivot()\n",
    "revenues_pivot = econ_calculator._build_revenues_pivot()\n",
    "\n",
    "report = report_economics2([\"segments\"], revenues_pivot, defaults_pivot, recoveries_pivot)"
   ]
  },
  {
   "cell_type": "code",
   "execution_count": 10,
   "metadata": {},
   "outputs": [
    {
     "data": {
      "text/html": [
       "<div>\n",
       "<style scoped>\n",
       "    .dataframe tbody tr th:only-of-type {\n",
       "        vertical-align: middle;\n",
       "    }\n",
       "\n",
       "    .dataframe tbody tr th {\n",
       "        vertical-align: top;\n",
       "    }\n",
       "\n",
       "    .dataframe thead th {\n",
       "        text-align: right;\n",
       "    }\n",
       "</style>\n",
       "<table border=\"1\" class=\"dataframe\">\n",
       "  <thead>\n",
       "    <tr style=\"text-align: right;\">\n",
       "      <th></th>\n",
       "      <th>n_contracts</th>\n",
       "      <th>revenue_value</th>\n",
       "      <th>prob_default</th>\n",
       "      <th>default_value</th>\n",
       "      <th>recovery_value</th>\n",
       "      <th>recovery_efficiency</th>\n",
       "      <th>unit_economics</th>\n",
       "      <th>aggregate_margin</th>\n",
       "    </tr>\n",
       "    <tr>\n",
       "      <th>segments</th>\n",
       "      <th></th>\n",
       "      <th></th>\n",
       "      <th></th>\n",
       "      <th></th>\n",
       "      <th></th>\n",
       "      <th></th>\n",
       "      <th></th>\n",
       "      <th></th>\n",
       "    </tr>\n",
       "  </thead>\n",
       "  <tbody>\n",
       "    <tr>\n",
       "      <th>A</th>\n",
       "      <td>1271</td>\n",
       "      <td>1335.677663</td>\n",
       "      <td>0.052714</td>\n",
       "      <td>270.501857</td>\n",
       "      <td>98.335980</td>\n",
       "      <td>0.363532</td>\n",
       "      <td>1163.511786</td>\n",
       "      <td>1478823.48</td>\n",
       "    </tr>\n",
       "    <tr>\n",
       "      <th>B</th>\n",
       "      <td>3354</td>\n",
       "      <td>1214.062275</td>\n",
       "      <td>0.064103</td>\n",
       "      <td>347.241855</td>\n",
       "      <td>107.349120</td>\n",
       "      <td>0.309148</td>\n",
       "      <td>974.169541</td>\n",
       "      <td>3267364.64</td>\n",
       "    </tr>\n",
       "    <tr>\n",
       "      <th>C</th>\n",
       "      <td>5833</td>\n",
       "      <td>1140.376235</td>\n",
       "      <td>0.065832</td>\n",
       "      <td>353.497725</td>\n",
       "      <td>107.667615</td>\n",
       "      <td>0.304578</td>\n",
       "      <td>894.546125</td>\n",
       "      <td>5217887.55</td>\n",
       "    </tr>\n",
       "    <tr>\n",
       "      <th>D</th>\n",
       "      <td>5967</td>\n",
       "      <td>1132.072073</td>\n",
       "      <td>0.108765</td>\n",
       "      <td>696.862427</td>\n",
       "      <td>195.004444</td>\n",
       "      <td>0.279832</td>\n",
       "      <td>630.214091</td>\n",
       "      <td>3760487.48</td>\n",
       "    </tr>\n",
       "    <tr>\n",
       "      <th>E</th>\n",
       "      <td>18454</td>\n",
       "      <td>1136.454054</td>\n",
       "      <td>0.124688</td>\n",
       "      <td>870.064657</td>\n",
       "      <td>239.138413</td>\n",
       "      <td>0.274851</td>\n",
       "      <td>505.527810</td>\n",
       "      <td>9329010.21</td>\n",
       "    </tr>\n",
       "  </tbody>\n",
       "</table>\n",
       "</div>"
      ],
      "text/plain": [
       "          n_contracts  revenue_value  prob_default  default_value  \\\n",
       "segments                                                            \n",
       "A                1271    1335.677663      0.052714     270.501857   \n",
       "B                3354    1214.062275      0.064103     347.241855   \n",
       "C                5833    1140.376235      0.065832     353.497725   \n",
       "D                5967    1132.072073      0.108765     696.862427   \n",
       "E               18454    1136.454054      0.124688     870.064657   \n",
       "\n",
       "          recovery_value  recovery_efficiency  unit_economics  \\\n",
       "segments                                                        \n",
       "A              98.335980             0.363532     1163.511786   \n",
       "B             107.349120             0.309148      974.169541   \n",
       "C             107.667615             0.304578      894.546125   \n",
       "D             195.004444             0.279832      630.214091   \n",
       "E             239.138413             0.274851      505.527810   \n",
       "\n",
       "          aggregate_margin  \n",
       "segments                    \n",
       "A               1478823.48  \n",
       "B               3267364.64  \n",
       "C               5217887.55  \n",
       "D               3760487.48  \n",
       "E               9329010.21  "
      ]
     },
     "execution_count": 10,
     "metadata": {},
     "output_type": "execute_result"
    }
   ],
   "source": [
    "report"
   ]
  },
  {
   "cell_type": "code",
   "execution_count": null,
   "metadata": {},
   "outputs": [],
   "source": []
  }
 ],
 "metadata": {
  "kernelspec": {
   "display_name": "base",
   "language": "python",
   "name": "python3"
  },
  "language_info": {
   "codemirror_mode": {
    "name": "ipython",
    "version": 3
   },
   "file_extension": ".py",
   "mimetype": "text/x-python",
   "name": "python",
   "nbconvert_exporter": "python",
   "pygments_lexer": "ipython3",
   "version": "3.9.12"
  },
  "orig_nbformat": 4,
  "vscode": {
   "interpreter": {
    "hash": "223ead887b7dcaa75de659872391215d564520fc3b634f5b926bb8a23e5a158e"
   }
  }
 },
 "nbformat": 4,
 "nbformat_minor": 2
}
