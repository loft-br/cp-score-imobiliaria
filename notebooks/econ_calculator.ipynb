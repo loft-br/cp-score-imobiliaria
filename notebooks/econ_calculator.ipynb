{
 "cells": [
  {
   "cell_type": "code",
   "execution_count": 2,
   "metadata": {},
   "outputs": [],
   "source": [
    "import os\n",
    "os.chdir('../')"
   ]
  },
  {
   "attachments": {},
   "cell_type": "markdown",
   "metadata": {},
   "source": [
    "## Imports"
   ]
  },
  {
   "cell_type": "code",
   "execution_count": 3,
   "metadata": {},
   "outputs": [],
   "source": [
    "import pandas as pd\n",
    "import datetime as dt\n",
    "\n",
    "from risk_suite.economics import EconomicsCalculator"
   ]
  },
  {
   "attachments": {},
   "cell_type": "markdown",
   "metadata": {},
   "source": [
    "## Data Collect"
   ]
  },
  {
   "attachments": {},
   "cell_type": "markdown",
   "metadata": {},
   "source": [
    "#### Score Imobiliária"
   ]
  },
  {
   "cell_type": "code",
   "execution_count": 4,
   "metadata": {},
   "outputs": [],
   "source": [
    "all_preds = []\n",
    "\n",
    "for month in range(1, 7):\n",
    "    all_preds.append(f\"notebooks/outputs/df_preds_20220{month}.csv\")\n",
    "\n",
    "df_preds = (\n",
    "    pd.concat([pd.read_csv(f) for f in all_preds ])\n",
    "    [[\"dt_calendar\", \"id_imobiliaria\", \"segments\"]]\n",
    "    .rename(columns={\"dt_calendar\": \"dt_ativacao\"})\n",
    ")\n",
    "\n",
    "df_preds[\"dt_ativacao\"] = pd.to_datetime(df_preds[\"dt_ativacao\"]).dt.strftime(\"%Y-%m\")"
   ]
  },
  {
   "cell_type": "code",
   "execution_count": 5,
   "metadata": {},
   "outputs": [],
   "source": [
    "info_contracts = (\n",
    "    pd.read_csv(\"data/info_contracts.csv\")[[\"dt_ativacao\", \"id_imobiliaria\", \"id_contrato\"]]\n",
    "    .rename(columns={\"id_contrato\": \"contract_id\"})\n",
    ")\n",
    "\n",
    "info_contracts[\"dt_ativacao\"] = pd.to_datetime(info_contracts[\"dt_ativacao\"]).dt.strftime(\"%Y-%m\")"
   ]
  },
  {
   "cell_type": "code",
   "execution_count": 6,
   "metadata": {},
   "outputs": [
    {
     "data": {
      "text/plain": [
       "segments\n",
       "A    345\n",
       "B    461\n",
       "C    448\n",
       "D    466\n",
       "E    566\n",
       "Name: id_imobiliaria, dtype: int64"
      ]
     },
     "execution_count": 6,
     "metadata": {},
     "output_type": "execute_result"
    }
   ],
   "source": [
    "df_preds.groupby(\"segments\")[\"id_imobiliaria\"].size()"
   ]
  },
  {
   "cell_type": "code",
   "execution_count": 7,
   "metadata": {},
   "outputs": [
    {
     "data": {
      "text/html": [
       "<div>\n",
       "<style scoped>\n",
       "    .dataframe tbody tr th:only-of-type {\n",
       "        vertical-align: middle;\n",
       "    }\n",
       "\n",
       "    .dataframe tbody tr th {\n",
       "        vertical-align: top;\n",
       "    }\n",
       "\n",
       "    .dataframe thead th {\n",
       "        text-align: right;\n",
       "    }\n",
       "</style>\n",
       "<table border=\"1\" class=\"dataframe\">\n",
       "  <thead>\n",
       "    <tr style=\"text-align: right;\">\n",
       "      <th></th>\n",
       "      <th>dt_ativacao</th>\n",
       "      <th>id_imobiliaria</th>\n",
       "      <th>contract_id</th>\n",
       "      <th>segments</th>\n",
       "    </tr>\n",
       "  </thead>\n",
       "  <tbody>\n",
       "    <tr>\n",
       "      <th>0</th>\n",
       "      <td>2022-01</td>\n",
       "      <td>38</td>\n",
       "      <td>472480</td>\n",
       "      <td>B</td>\n",
       "    </tr>\n",
       "    <tr>\n",
       "      <th>1</th>\n",
       "      <td>2022-01</td>\n",
       "      <td>38</td>\n",
       "      <td>473211</td>\n",
       "      <td>B</td>\n",
       "    </tr>\n",
       "    <tr>\n",
       "      <th>2</th>\n",
       "      <td>2022-01</td>\n",
       "      <td>38</td>\n",
       "      <td>477113</td>\n",
       "      <td>B</td>\n",
       "    </tr>\n",
       "    <tr>\n",
       "      <th>3</th>\n",
       "      <td>2022-01</td>\n",
       "      <td>38</td>\n",
       "      <td>479053</td>\n",
       "      <td>B</td>\n",
       "    </tr>\n",
       "    <tr>\n",
       "      <th>4</th>\n",
       "      <td>2022-01</td>\n",
       "      <td>38</td>\n",
       "      <td>479355</td>\n",
       "      <td>B</td>\n",
       "    </tr>\n",
       "    <tr>\n",
       "      <th>...</th>\n",
       "      <td>...</td>\n",
       "      <td>...</td>\n",
       "      <td>...</td>\n",
       "      <td>...</td>\n",
       "    </tr>\n",
       "    <tr>\n",
       "      <th>35243</th>\n",
       "      <td>2022-05</td>\n",
       "      <td>28927</td>\n",
       "      <td>617454</td>\n",
       "      <td>A</td>\n",
       "    </tr>\n",
       "    <tr>\n",
       "      <th>35244</th>\n",
       "      <td>2022-06</td>\n",
       "      <td>28927</td>\n",
       "      <td>641306</td>\n",
       "      <td>A</td>\n",
       "    </tr>\n",
       "    <tr>\n",
       "      <th>35245</th>\n",
       "      <td>2022-06</td>\n",
       "      <td>28927</td>\n",
       "      <td>650933</td>\n",
       "      <td>A</td>\n",
       "    </tr>\n",
       "    <tr>\n",
       "      <th>35246</th>\n",
       "      <td>2022-06</td>\n",
       "      <td>28927</td>\n",
       "      <td>657806</td>\n",
       "      <td>A</td>\n",
       "    </tr>\n",
       "    <tr>\n",
       "      <th>35247</th>\n",
       "      <td>2022-06</td>\n",
       "      <td>28927</td>\n",
       "      <td>665323</td>\n",
       "      <td>A</td>\n",
       "    </tr>\n",
       "  </tbody>\n",
       "</table>\n",
       "<p>35248 rows × 4 columns</p>\n",
       "</div>"
      ],
      "text/plain": [
       "      dt_ativacao  id_imobiliaria  contract_id segments\n",
       "0         2022-01              38       472480        B\n",
       "1         2022-01              38       473211        B\n",
       "2         2022-01              38       477113        B\n",
       "3         2022-01              38       479053        B\n",
       "4         2022-01              38       479355        B\n",
       "...           ...             ...          ...      ...\n",
       "35243     2022-05           28927       617454        A\n",
       "35244     2022-06           28927       641306        A\n",
       "35245     2022-06           28927       650933        A\n",
       "35246     2022-06           28927       657806        A\n",
       "35247     2022-06           28927       665323        A\n",
       "\n",
       "[35248 rows x 4 columns]"
      ]
     },
     "execution_count": 7,
     "metadata": {},
     "output_type": "execute_result"
    }
   ],
   "source": [
    "df = info_contracts.merge(df_preds, on=[\"dt_ativacao\", \"id_imobiliaria\"])\n",
    "df"
   ]
  },
  {
   "attachments": {},
   "cell_type": "markdown",
   "metadata": {},
   "source": [
    "#### Risco atual"
   ]
  },
  {
   "cell_type": "code",
   "execution_count": null,
   "metadata": {},
   "outputs": [],
   "source": [
    "calendar = pd.DataFrame(pd.date_range(\"2022-01\", \"2022-07\", freq=\"M\").strftime(\"%Y-%m\"), columns=[\"dt_ativacao\"])"
   ]
  },
  {
   "cell_type": "code",
   "execution_count": null,
   "metadata": {},
   "outputs": [],
   "source": [
    "old_score = pd.read_csv(\"data/old_risco_imob.csv\")[[\"id_imobiliaria\", \"risco_imobiliaria\"]].query(\"risco_imobiliaria != 0\")\n",
    "\n",
    "old_score[\"segments\"] = (\n",
    "    old_score[\"risco_imobiliaria\"]\n",
    "    .transform(\n",
    "        lambda x: \"A\" if x == 2      else\n",
    "                  \"B\" if x in (3, 4) else \n",
    "                  \"C\" if x == 5      else \n",
    "                  \"D\" if x == 6      else \n",
    "                  \"E\" if x == 7      else \n",
    "                  None\n",
    "    )\n",
    ")\n",
    "\n",
    "old_score = old_score.merge(calendar, how=\"cross\")\n",
    "old_score.head()"
   ]
  },
  {
   "cell_type": "code",
   "execution_count": 112,
   "metadata": {},
   "outputs": [
    {
     "data": {
      "text/plain": [
       "segments\n",
       "A     288\n",
       "B      42\n",
       "C    1134\n",
       "D    1752\n",
       "E    2154\n",
       "Name: id_imobiliaria, dtype: int64"
      ]
     },
     "execution_count": 112,
     "metadata": {},
     "output_type": "execute_result"
    }
   ],
   "source": [
    "old_score.groupby(\"segments\")[\"id_imobiliaria\"].size()"
   ]
  },
  {
   "cell_type": "code",
   "execution_count": 94,
   "metadata": {},
   "outputs": [
    {
     "data": {
      "text/html": [
       "<div>\n",
       "<style scoped>\n",
       "    .dataframe tbody tr th:only-of-type {\n",
       "        vertical-align: middle;\n",
       "    }\n",
       "\n",
       "    .dataframe tbody tr th {\n",
       "        vertical-align: top;\n",
       "    }\n",
       "\n",
       "    .dataframe thead th {\n",
       "        text-align: right;\n",
       "    }\n",
       "</style>\n",
       "<table border=\"1\" class=\"dataframe\">\n",
       "  <thead>\n",
       "    <tr style=\"text-align: right;\">\n",
       "      <th></th>\n",
       "      <th>dt_ativacao</th>\n",
       "      <th>id_imobiliaria</th>\n",
       "      <th>contract_id</th>\n",
       "      <th>segments</th>\n",
       "    </tr>\n",
       "  </thead>\n",
       "  <tbody>\n",
       "    <tr>\n",
       "      <th>0</th>\n",
       "      <td>2022-01</td>\n",
       "      <td>30</td>\n",
       "      <td>480160</td>\n",
       "      <td>D</td>\n",
       "    </tr>\n",
       "    <tr>\n",
       "      <th>1</th>\n",
       "      <td>2022-02</td>\n",
       "      <td>30</td>\n",
       "      <td>501215</td>\n",
       "      <td>D</td>\n",
       "    </tr>\n",
       "    <tr>\n",
       "      <th>2</th>\n",
       "      <td>2022-02</td>\n",
       "      <td>30</td>\n",
       "      <td>503926</td>\n",
       "      <td>D</td>\n",
       "    </tr>\n",
       "    <tr>\n",
       "      <th>3</th>\n",
       "      <td>2022-02</td>\n",
       "      <td>30</td>\n",
       "      <td>511972</td>\n",
       "      <td>D</td>\n",
       "    </tr>\n",
       "    <tr>\n",
       "      <th>4</th>\n",
       "      <td>2022-02</td>\n",
       "      <td>30</td>\n",
       "      <td>534486</td>\n",
       "      <td>D</td>\n",
       "    </tr>\n",
       "  </tbody>\n",
       "</table>\n",
       "</div>"
      ],
      "text/plain": [
       "  dt_ativacao  id_imobiliaria  contract_id segments\n",
       "0     2022-01              30       480160        D\n",
       "1     2022-02              30       501215        D\n",
       "2     2022-02              30       503926        D\n",
       "3     2022-02              30       511972        D\n",
       "4     2022-02              30       534486        D"
      ]
     },
     "execution_count": 94,
     "metadata": {},
     "output_type": "execute_result"
    }
   ],
   "source": [
    "old_risk = info_contracts.merge(old_score[[\"dt_ativacao\", \"id_imobiliaria\", \"segments\"]], on=[\"dt_ativacao\", \"id_imobiliaria\"])\n",
    "old_risk.head()"
   ]
  },
  {
   "attachments": {},
   "cell_type": "markdown",
   "metadata": {},
   "source": [
    "#### Calculadora"
   ]
  },
  {
   "cell_type": "code",
   "execution_count": 8,
   "metadata": {},
   "outputs": [],
   "source": [
    "contracts = pd.read_parquet('../risk_suite/data/contracts.parquet')\n",
    "defaults = pd.read_parquet('../risk_suite/data/defaults.parquet')\n",
    "recoveries = pd.read_parquet('../risk_suite/data/recoveries.parquet')\n",
    "revenues = pd.read_parquet('../risk_suite/data/revenues.parquet')\n",
    "\n",
    "base_features = [\n",
    "    'contract_id',\n",
    "    'activation_date',\n",
    "    'churn_date',\n",
    "    'activation_month',\n",
    "    'activation_quarter',\n",
    "    'score_serasa',\n",
    "    'rating',\n",
    "    'rental_value',\n",
    "]\n",
    "\n",
    "contracts = contracts[base_features]\n",
    "contracts = contracts.dropna(subset=['activation_date', 'rating'])\n",
    "contracts = contracts.loc[lambda x: x['activation_quarter'] >= pd.Period('2020Q1')]\n",
    "contracts = contracts.replace(['E1', 'E2', 'E3'], 'E')"
   ]
  },
  {
   "attachments": {},
   "cell_type": "markdown",
   "metadata": {},
   "source": [
    "## Auxiliary Functions"
   ]
  },
  {
   "cell_type": "code",
   "execution_count": 9,
   "metadata": {},
   "outputs": [],
   "source": [
    "def report_economics2(aggkeys, revenues_pivot, defaults_pivot, recoveries_pivot):\n",
    "\n",
    "    economics_df = pd.DataFrame(\n",
    "        {\n",
    "            'n_contracts': revenues_pivot.groupby(aggkeys).size(),\n",
    "            'revenue_value': (revenues_pivot.sum(axis=1)).groupby(aggkeys).mean(),\n",
    "            'prob_default': (defaults_pivot.sum(axis=1) > 0).groupby(aggkeys).mean(),\n",
    "            'default_value': (defaults_pivot.sum(axis=1)).groupby(aggkeys).mean(),\n",
    "            'recovery_value': (recoveries_pivot.sum(axis=1)).groupby(aggkeys).mean()\n",
    "        }\n",
    "    )\n",
    "\n",
    "    economics_df = (\n",
    "        economics_df\n",
    "        .assign(recovery_efficiency=lambda x: x['recovery_value'] / x['default_value'])\n",
    "        .assign(unit_economics=lambda x: x['revenue_value'] - x['default_value'] + x['recovery_value'])\n",
    "        .assign(aggregate_margin=lambda x: x['unit_economics'] * x['n_contracts'])\n",
    "    )\n",
    "\n",
    "    return economics_df.sort_index(ascending=[True, False])"
   ]
  },
  {
   "attachments": {},
   "cell_type": "markdown",
   "metadata": {},
   "source": [
    "## Economics report"
   ]
  },
  {
   "cell_type": "code",
   "execution_count": 10,
   "metadata": {},
   "outputs": [],
   "source": [
    "df = contracts.merge(df, on=\"contract_id\")"
   ]
  },
  {
   "cell_type": "code",
   "execution_count": 11,
   "metadata": {},
   "outputs": [
    {
     "name": "stderr",
     "output_type": "stream",
     "text": [
      "/Users/raquel.camara/opt/anaconda3/lib/python3.9/site-packages/risk_suite/economics.py:139: FutureWarning: pivot_table dropped a column because it failed to aggregate. This behavior is deprecated and will raise in a future version of pandas. Select only the columns that can be aggregated.\n",
      "  event_data\n"
     ]
    }
   ],
   "source": [
    "econ_calculator = EconomicsCalculator(df, defaults, recoveries, revenues, max_history_date='2023-01')\n",
    "\n",
    "defaults_pivot = econ_calculator._build_defaults_pivot()\n",
    "recoveries_pivot = econ_calculator._build_recoveries_pivot()\n",
    "revenues_pivot = econ_calculator._build_revenues_pivot()\n",
    "\n",
    "report = report_economics2([\"segments\"], revenues_pivot, defaults_pivot, recoveries_pivot)"
   ]
  },
  {
   "cell_type": "code",
   "execution_count": 12,
   "metadata": {},
   "outputs": [
    {
     "data": {
      "text/html": [
       "<div>\n",
       "<style scoped>\n",
       "    .dataframe tbody tr th:only-of-type {\n",
       "        vertical-align: middle;\n",
       "    }\n",
       "\n",
       "    .dataframe tbody tr th {\n",
       "        vertical-align: top;\n",
       "    }\n",
       "\n",
       "    .dataframe thead th {\n",
       "        text-align: right;\n",
       "    }\n",
       "</style>\n",
       "<table border=\"1\" class=\"dataframe\">\n",
       "  <thead>\n",
       "    <tr style=\"text-align: right;\">\n",
       "      <th></th>\n",
       "      <th>n_contracts</th>\n",
       "      <th>revenue_value</th>\n",
       "      <th>prob_default</th>\n",
       "      <th>default_value</th>\n",
       "      <th>recovery_value</th>\n",
       "      <th>recovery_efficiency</th>\n",
       "      <th>unit_economics</th>\n",
       "      <th>aggregate_margin</th>\n",
       "    </tr>\n",
       "    <tr>\n",
       "      <th>segments</th>\n",
       "      <th></th>\n",
       "      <th></th>\n",
       "      <th></th>\n",
       "      <th></th>\n",
       "      <th></th>\n",
       "      <th></th>\n",
       "      <th></th>\n",
       "      <th></th>\n",
       "    </tr>\n",
       "  </thead>\n",
       "  <tbody>\n",
       "    <tr>\n",
       "      <th>A</th>\n",
       "      <td>1271</td>\n",
       "      <td>1335.677663</td>\n",
       "      <td>0.052714</td>\n",
       "      <td>270.501857</td>\n",
       "      <td>98.335980</td>\n",
       "      <td>0.363532</td>\n",
       "      <td>1163.511786</td>\n",
       "      <td>1478823.48</td>\n",
       "    </tr>\n",
       "    <tr>\n",
       "      <th>B</th>\n",
       "      <td>3354</td>\n",
       "      <td>1214.062275</td>\n",
       "      <td>0.064103</td>\n",
       "      <td>347.241855</td>\n",
       "      <td>107.349120</td>\n",
       "      <td>0.309148</td>\n",
       "      <td>974.169541</td>\n",
       "      <td>3267364.64</td>\n",
       "    </tr>\n",
       "    <tr>\n",
       "      <th>C</th>\n",
       "      <td>5833</td>\n",
       "      <td>1140.376235</td>\n",
       "      <td>0.065832</td>\n",
       "      <td>353.497725</td>\n",
       "      <td>107.667615</td>\n",
       "      <td>0.304578</td>\n",
       "      <td>894.546125</td>\n",
       "      <td>5217887.55</td>\n",
       "    </tr>\n",
       "    <tr>\n",
       "      <th>D</th>\n",
       "      <td>5967</td>\n",
       "      <td>1132.072073</td>\n",
       "      <td>0.108765</td>\n",
       "      <td>696.862427</td>\n",
       "      <td>195.004444</td>\n",
       "      <td>0.279832</td>\n",
       "      <td>630.214091</td>\n",
       "      <td>3760487.48</td>\n",
       "    </tr>\n",
       "    <tr>\n",
       "      <th>E</th>\n",
       "      <td>18454</td>\n",
       "      <td>1136.454054</td>\n",
       "      <td>0.124688</td>\n",
       "      <td>870.064657</td>\n",
       "      <td>239.138413</td>\n",
       "      <td>0.274851</td>\n",
       "      <td>505.527810</td>\n",
       "      <td>9329010.21</td>\n",
       "    </tr>\n",
       "  </tbody>\n",
       "</table>\n",
       "</div>"
      ],
      "text/plain": [
       "          n_contracts  revenue_value  prob_default  default_value  \\\n",
       "segments                                                            \n",
       "A                1271    1335.677663      0.052714     270.501857   \n",
       "B                3354    1214.062275      0.064103     347.241855   \n",
       "C                5833    1140.376235      0.065832     353.497725   \n",
       "D                5967    1132.072073      0.108765     696.862427   \n",
       "E               18454    1136.454054      0.124688     870.064657   \n",
       "\n",
       "          recovery_value  recovery_efficiency  unit_economics  \\\n",
       "segments                                                        \n",
       "A              98.335980             0.363532     1163.511786   \n",
       "B             107.349120             0.309148      974.169541   \n",
       "C             107.667615             0.304578      894.546125   \n",
       "D             195.004444             0.279832      630.214091   \n",
       "E             239.138413             0.274851      505.527810   \n",
       "\n",
       "          aggregate_margin  \n",
       "segments                    \n",
       "A               1478823.48  \n",
       "B               3267364.64  \n",
       "C               5217887.55  \n",
       "D               3760487.48  \n",
       "E               9329010.21  "
      ]
     },
     "execution_count": 12,
     "metadata": {},
     "output_type": "execute_result"
    }
   ],
   "source": [
    "report"
   ]
  },
  {
   "attachments": {},
   "cell_type": "markdown",
   "metadata": {},
   "source": [
    "#### Risco Atual"
   ]
  },
  {
   "cell_type": "code",
   "execution_count": 95,
   "metadata": {},
   "outputs": [],
   "source": [
    "# imobs = (df.id_imobiliaria.unique())\n",
    "old_risk_2 = contracts.merge(old_risk, on=\"contract_id\")#.query(\"id_imobiliaria in @imobs\")"
   ]
  },
  {
   "cell_type": "code",
   "execution_count": 101,
   "metadata": {},
   "outputs": [
    {
     "name": "stderr",
     "output_type": "stream",
     "text": [
      "/Users/raquel.camara/opt/anaconda3/lib/python3.9/site-packages/risk_suite/economics.py:139: FutureWarning: pivot_table dropped a column because it failed to aggregate. This behavior is deprecated and will raise in a future version of pandas. Select only the columns that can be aggregated.\n",
      "  event_data\n"
     ]
    }
   ],
   "source": [
    "econ_calculator_old = EconomicsCalculator(old_risk.query(\"id_imobiliaria in @imobs\"), defaults, recoveries, revenues, max_history_date='2023-01')\n",
    "\n",
    "defaults_pivot_old = econ_calculator_old._build_defaults_pivot()\n",
    "recoveries_pivot_old = econ_calculator_old._build_recoveries_pivot()\n",
    "revenues_pivot_old = econ_calculator_old._build_revenues_pivot()\n",
    "\n",
    "report_old = report_economics2([\"segments\"], revenues_pivot_old, defaults_pivot_old, recoveries_pivot_old)"
   ]
  },
  {
   "cell_type": "code",
   "execution_count": 97,
   "metadata": {},
   "outputs": [
    {
     "data": {
      "text/html": [
       "<div>\n",
       "<style scoped>\n",
       "    .dataframe tbody tr th:only-of-type {\n",
       "        vertical-align: middle;\n",
       "    }\n",
       "\n",
       "    .dataframe tbody tr th {\n",
       "        vertical-align: top;\n",
       "    }\n",
       "\n",
       "    .dataframe thead th {\n",
       "        text-align: right;\n",
       "    }\n",
       "</style>\n",
       "<table border=\"1\" class=\"dataframe\">\n",
       "  <thead>\n",
       "    <tr style=\"text-align: right;\">\n",
       "      <th></th>\n",
       "      <th>n_contracts</th>\n",
       "      <th>revenue_value</th>\n",
       "      <th>prob_default</th>\n",
       "      <th>default_value</th>\n",
       "      <th>recovery_value</th>\n",
       "      <th>recovery_efficiency</th>\n",
       "      <th>unit_economics</th>\n",
       "      <th>aggregate_margin</th>\n",
       "    </tr>\n",
       "    <tr>\n",
       "      <th>segments</th>\n",
       "      <th></th>\n",
       "      <th></th>\n",
       "      <th></th>\n",
       "      <th></th>\n",
       "      <th></th>\n",
       "      <th></th>\n",
       "      <th></th>\n",
       "      <th></th>\n",
       "    </tr>\n",
       "  </thead>\n",
       "  <tbody>\n",
       "    <tr>\n",
       "      <th>A</th>\n",
       "      <td>1570</td>\n",
       "      <td>1137.982134</td>\n",
       "      <td>0.026752</td>\n",
       "      <td>164.519268</td>\n",
       "      <td>28.650713</td>\n",
       "      <td>0.174148</td>\n",
       "      <td>1002.113580</td>\n",
       "      <td>1573318.32</td>\n",
       "    </tr>\n",
       "    <tr>\n",
       "      <th>B</th>\n",
       "      <td>2757</td>\n",
       "      <td>1218.591792</td>\n",
       "      <td>0.073993</td>\n",
       "      <td>543.509587</td>\n",
       "      <td>156.801110</td>\n",
       "      <td>0.288497</td>\n",
       "      <td>831.883315</td>\n",
       "      <td>2293502.30</td>\n",
       "    </tr>\n",
       "    <tr>\n",
       "      <th>C</th>\n",
       "      <td>7562</td>\n",
       "      <td>1170.826014</td>\n",
       "      <td>0.051970</td>\n",
       "      <td>307.080665</td>\n",
       "      <td>107.639807</td>\n",
       "      <td>0.350526</td>\n",
       "      <td>971.385156</td>\n",
       "      <td>7345614.55</td>\n",
       "    </tr>\n",
       "    <tr>\n",
       "      <th>D</th>\n",
       "      <td>14046</td>\n",
       "      <td>1196.827674</td>\n",
       "      <td>0.080806</td>\n",
       "      <td>516.389433</td>\n",
       "      <td>159.738427</td>\n",
       "      <td>0.309337</td>\n",
       "      <td>840.176668</td>\n",
       "      <td>11801121.48</td>\n",
       "    </tr>\n",
       "    <tr>\n",
       "      <th>E</th>\n",
       "      <td>22243</td>\n",
       "      <td>1124.420053</td>\n",
       "      <td>0.136762</td>\n",
       "      <td>875.796947</td>\n",
       "      <td>236.966910</td>\n",
       "      <td>0.270573</td>\n",
       "      <td>485.590016</td>\n",
       "      <td>10800978.73</td>\n",
       "    </tr>\n",
       "  </tbody>\n",
       "</table>\n",
       "</div>"
      ],
      "text/plain": [
       "          n_contracts  revenue_value  prob_default  default_value  \\\n",
       "segments                                                            \n",
       "A                1570    1137.982134      0.026752     164.519268   \n",
       "B                2757    1218.591792      0.073993     543.509587   \n",
       "C                7562    1170.826014      0.051970     307.080665   \n",
       "D               14046    1196.827674      0.080806     516.389433   \n",
       "E               22243    1124.420053      0.136762     875.796947   \n",
       "\n",
       "          recovery_value  recovery_efficiency  unit_economics  \\\n",
       "segments                                                        \n",
       "A              28.650713             0.174148     1002.113580   \n",
       "B             156.801110             0.288497      831.883315   \n",
       "C             107.639807             0.350526      971.385156   \n",
       "D             159.738427             0.309337      840.176668   \n",
       "E             236.966910             0.270573      485.590016   \n",
       "\n",
       "          aggregate_margin  \n",
       "segments                    \n",
       "A               1573318.32  \n",
       "B               2293502.30  \n",
       "C               7345614.55  \n",
       "D              11801121.48  \n",
       "E              10800978.73  "
      ]
     },
     "execution_count": 97,
     "metadata": {},
     "output_type": "execute_result"
    }
   ],
   "source": [
    "report_old"
   ]
  },
  {
   "cell_type": "code",
   "execution_count": 106,
   "metadata": {},
   "outputs": [
    {
     "data": {
      "text/plain": [
       "segments\n",
       "A     288\n",
       "B      42\n",
       "C    1134\n",
       "D    1752\n",
       "E    2154\n",
       "Name: id_imobiliaria, dtype: int64"
      ]
     },
     "execution_count": 106,
     "metadata": {},
     "output_type": "execute_result"
    }
   ],
   "source": [
    "old_score.groupby(\"segments\")[\"id_imobiliaria\"].size()"
   ]
  },
  {
   "cell_type": "code",
   "execution_count": 105,
   "metadata": {},
   "outputs": [
    {
     "data": {
      "text/plain": [
       "895"
      ]
     },
     "execution_count": 105,
     "metadata": {},
     "output_type": "execute_result"
    }
   ],
   "source": [
    "old_score.id_imobiliaria.nunique()"
   ]
  },
  {
   "attachments": {},
   "cell_type": "markdown",
   "metadata": {},
   "source": [
    "### Análises 1"
   ]
  },
  {
   "cell_type": "code",
   "execution_count": 16,
   "metadata": {},
   "outputs": [
    {
     "data": {
      "text/plain": [
       "segments\n",
       "A     1271\n",
       "B     3354\n",
       "C     5833\n",
       "D     5967\n",
       "E    18454\n",
       "Name: contract_id, dtype: int64"
      ]
     },
     "execution_count": 16,
     "metadata": {},
     "output_type": "execute_result"
    }
   ],
   "source": [
    "df.groupby([\"segments\"])[\"contract_id\"].size()"
   ]
  },
  {
   "cell_type": "code",
   "execution_count": 22,
   "metadata": {},
   "outputs": [],
   "source": [
    "df_pivot = (df.groupby([\"segments\", \"rating\"])[\"contract_id\"].size() / df.groupby([\"segments\"])[\"contract_id\"].size()).to_frame().reset_index()"
   ]
  },
  {
   "cell_type": "code",
   "execution_count": 24,
   "metadata": {},
   "outputs": [
    {
     "data": {
      "text/html": [
       "<div>\n",
       "<style scoped>\n",
       "    .dataframe tbody tr th:only-of-type {\n",
       "        vertical-align: middle;\n",
       "    }\n",
       "\n",
       "    .dataframe tbody tr th {\n",
       "        vertical-align: top;\n",
       "    }\n",
       "\n",
       "    .dataframe thead th {\n",
       "        text-align: right;\n",
       "    }\n",
       "</style>\n",
       "<table border=\"1\" class=\"dataframe\">\n",
       "  <thead>\n",
       "    <tr style=\"text-align: right;\">\n",
       "      <th>rating</th>\n",
       "      <th>A</th>\n",
       "      <th>B</th>\n",
       "      <th>C</th>\n",
       "      <th>D</th>\n",
       "      <th>E</th>\n",
       "    </tr>\n",
       "    <tr>\n",
       "      <th>segments</th>\n",
       "      <th></th>\n",
       "      <th></th>\n",
       "      <th></th>\n",
       "      <th></th>\n",
       "      <th></th>\n",
       "    </tr>\n",
       "  </thead>\n",
       "  <tbody>\n",
       "    <tr>\n",
       "      <th>A</th>\n",
       "      <td>0.195909</td>\n",
       "      <td>0.259638</td>\n",
       "      <td>0.346971</td>\n",
       "      <td>0.073958</td>\n",
       "      <td>0.123525</td>\n",
       "    </tr>\n",
       "    <tr>\n",
       "      <th>B</th>\n",
       "      <td>0.156231</td>\n",
       "      <td>0.235540</td>\n",
       "      <td>0.339595</td>\n",
       "      <td>0.124329</td>\n",
       "      <td>0.144305</td>\n",
       "    </tr>\n",
       "    <tr>\n",
       "      <th>C</th>\n",
       "      <td>0.161666</td>\n",
       "      <td>0.231442</td>\n",
       "      <td>0.334133</td>\n",
       "      <td>0.124293</td>\n",
       "      <td>0.148466</td>\n",
       "    </tr>\n",
       "    <tr>\n",
       "      <th>D</th>\n",
       "      <td>0.158539</td>\n",
       "      <td>0.225909</td>\n",
       "      <td>0.341042</td>\n",
       "      <td>0.122507</td>\n",
       "      <td>0.152003</td>\n",
       "    </tr>\n",
       "    <tr>\n",
       "      <th>E</th>\n",
       "      <td>0.154221</td>\n",
       "      <td>0.234204</td>\n",
       "      <td>0.339168</td>\n",
       "      <td>0.119866</td>\n",
       "      <td>0.152541</td>\n",
       "    </tr>\n",
       "  </tbody>\n",
       "</table>\n",
       "</div>"
      ],
      "text/plain": [
       "rating           A         B         C         D         E\n",
       "segments                                                  \n",
       "A         0.195909  0.259638  0.346971  0.073958  0.123525\n",
       "B         0.156231  0.235540  0.339595  0.124329  0.144305\n",
       "C         0.161666  0.231442  0.334133  0.124293  0.148466\n",
       "D         0.158539  0.225909  0.341042  0.122507  0.152003\n",
       "E         0.154221  0.234204  0.339168  0.119866  0.152541"
      ]
     },
     "execution_count": 24,
     "metadata": {},
     "output_type": "execute_result"
    }
   ],
   "source": [
    "pd.pivot_table(df_pivot, values=\"contract_id\", index=\"segments\", columns=\"rating\")"
   ]
  },
  {
   "cell_type": "code",
   "execution_count": 19,
   "metadata": {},
   "outputs": [
    {
     "data": {
      "text/html": [
       "<div>\n",
       "<style scoped>\n",
       "    .dataframe tbody tr th:only-of-type {\n",
       "        vertical-align: middle;\n",
       "    }\n",
       "\n",
       "    .dataframe tbody tr th {\n",
       "        vertical-align: top;\n",
       "    }\n",
       "\n",
       "    .dataframe thead th {\n",
       "        text-align: right;\n",
       "    }\n",
       "</style>\n",
       "<table border=\"1\" class=\"dataframe\">\n",
       "  <thead>\n",
       "    <tr style=\"text-align: right;\">\n",
       "      <th></th>\n",
       "      <th></th>\n",
       "      <th>contract_id</th>\n",
       "    </tr>\n",
       "    <tr>\n",
       "      <th>segments</th>\n",
       "      <th>rating</th>\n",
       "      <th></th>\n",
       "    </tr>\n",
       "  </thead>\n",
       "  <tbody>\n",
       "    <tr>\n",
       "      <th rowspan=\"5\" valign=\"top\">A</th>\n",
       "      <th>A</th>\n",
       "      <td>0.195909</td>\n",
       "    </tr>\n",
       "    <tr>\n",
       "      <th>B</th>\n",
       "      <td>0.259638</td>\n",
       "    </tr>\n",
       "    <tr>\n",
       "      <th>C</th>\n",
       "      <td>0.346971</td>\n",
       "    </tr>\n",
       "    <tr>\n",
       "      <th>D</th>\n",
       "      <td>0.073958</td>\n",
       "    </tr>\n",
       "    <tr>\n",
       "      <th>E</th>\n",
       "      <td>0.123525</td>\n",
       "    </tr>\n",
       "    <tr>\n",
       "      <th rowspan=\"5\" valign=\"top\">B</th>\n",
       "      <th>A</th>\n",
       "      <td>0.156231</td>\n",
       "    </tr>\n",
       "    <tr>\n",
       "      <th>B</th>\n",
       "      <td>0.235540</td>\n",
       "    </tr>\n",
       "    <tr>\n",
       "      <th>C</th>\n",
       "      <td>0.339595</td>\n",
       "    </tr>\n",
       "    <tr>\n",
       "      <th>D</th>\n",
       "      <td>0.124329</td>\n",
       "    </tr>\n",
       "    <tr>\n",
       "      <th>E</th>\n",
       "      <td>0.144305</td>\n",
       "    </tr>\n",
       "    <tr>\n",
       "      <th rowspan=\"5\" valign=\"top\">C</th>\n",
       "      <th>A</th>\n",
       "      <td>0.161666</td>\n",
       "    </tr>\n",
       "    <tr>\n",
       "      <th>B</th>\n",
       "      <td>0.231442</td>\n",
       "    </tr>\n",
       "    <tr>\n",
       "      <th>C</th>\n",
       "      <td>0.334133</td>\n",
       "    </tr>\n",
       "    <tr>\n",
       "      <th>D</th>\n",
       "      <td>0.124293</td>\n",
       "    </tr>\n",
       "    <tr>\n",
       "      <th>E</th>\n",
       "      <td>0.148466</td>\n",
       "    </tr>\n",
       "    <tr>\n",
       "      <th rowspan=\"5\" valign=\"top\">D</th>\n",
       "      <th>A</th>\n",
       "      <td>0.158539</td>\n",
       "    </tr>\n",
       "    <tr>\n",
       "      <th>B</th>\n",
       "      <td>0.225909</td>\n",
       "    </tr>\n",
       "    <tr>\n",
       "      <th>C</th>\n",
       "      <td>0.341042</td>\n",
       "    </tr>\n",
       "    <tr>\n",
       "      <th>D</th>\n",
       "      <td>0.122507</td>\n",
       "    </tr>\n",
       "    <tr>\n",
       "      <th>E</th>\n",
       "      <td>0.152003</td>\n",
       "    </tr>\n",
       "    <tr>\n",
       "      <th rowspan=\"5\" valign=\"top\">E</th>\n",
       "      <th>A</th>\n",
       "      <td>0.154221</td>\n",
       "    </tr>\n",
       "    <tr>\n",
       "      <th>B</th>\n",
       "      <td>0.234204</td>\n",
       "    </tr>\n",
       "    <tr>\n",
       "      <th>C</th>\n",
       "      <td>0.339168</td>\n",
       "    </tr>\n",
       "    <tr>\n",
       "      <th>D</th>\n",
       "      <td>0.119866</td>\n",
       "    </tr>\n",
       "    <tr>\n",
       "      <th>E</th>\n",
       "      <td>0.152541</td>\n",
       "    </tr>\n",
       "  </tbody>\n",
       "</table>\n",
       "</div>"
      ],
      "text/plain": [
       "                 contract_id\n",
       "segments rating             \n",
       "A        A          0.195909\n",
       "         B          0.259638\n",
       "         C          0.346971\n",
       "         D          0.073958\n",
       "         E          0.123525\n",
       "B        A          0.156231\n",
       "         B          0.235540\n",
       "         C          0.339595\n",
       "         D          0.124329\n",
       "         E          0.144305\n",
       "C        A          0.161666\n",
       "         B          0.231442\n",
       "         C          0.334133\n",
       "         D          0.124293\n",
       "         E          0.148466\n",
       "D        A          0.158539\n",
       "         B          0.225909\n",
       "         C          0.341042\n",
       "         D          0.122507\n",
       "         E          0.152003\n",
       "E        A          0.154221\n",
       "         B          0.234204\n",
       "         C          0.339168\n",
       "         D          0.119866\n",
       "         E          0.152541"
      ]
     },
     "execution_count": 19,
     "metadata": {},
     "output_type": "execute_result"
    }
   ],
   "source": [
    "(df.groupby([\"segments\", \"rating\"])[\"contract_id\"].size() / df.groupby([\"segments\"])[\"contract_id\"].size()).to_frame()"
   ]
  },
  {
   "attachments": {},
   "cell_type": "markdown",
   "metadata": {},
   "source": [
    "### Análises 2"
   ]
  },
  {
   "cell_type": "code",
   "execution_count": 133,
   "metadata": {},
   "outputs": [],
   "source": [
    "import seaborn as sns\n",
    "import matplotlib.pyplot as plt\n",
    "import matplotlib.dates as mdates"
   ]
  },
  {
   "cell_type": "code",
   "execution_count": 200,
   "metadata": {},
   "outputs": [],
   "source": [
    "report_ativacao = report_economics2([\"dt_ativacao\", \"segments\"], revenues_pivot, defaults_pivot, recoveries_pivot)\n",
    "report_old_risk = report_economics2([\"dt_ativacao\", \"segments\"], revenues_pivot_old, defaults_pivot_old, recoveries_pivot_old)\n",
    "\n",
    "report_ativacao = report_ativacao.reset_index()\n",
    "report_old_risk = report_old_risk.reset_index()\n",
    "\n",
    "report_ativacao[\"dt_ativacao\"] = pd.to_datetime(report_ativacao[\"dt_ativacao\"])\n",
    "report_old_risk[\"dt_ativacao\"] = pd.to_datetime(report_old_risk[\"dt_ativacao\"])"
   ]
  },
  {
   "attachments": {},
   "cell_type": "markdown",
   "metadata": {},
   "source": [
    "#### Score Imobiliária"
   ]
  },
  {
   "cell_type": "code",
   "execution_count": 204,
   "metadata": {},
   "outputs": [],
   "source": [
    "def get_lineplot(\n",
    "  data_list,\n",
    "  specs\n",
    "):\n",
    "    month_fmt = mdates.DateFormatter('%b %Y')\n",
    "    month = mdates.DayLocator(interval=30)\n",
    "    \n",
    "    # fig = plt.figure(figsize=(25,13), dpi=80)\n",
    "    fig = plt.figure(figsize=(25,13), dpi=80)\n",
    "    ax = fig.add_gridspec(2, 2)\n",
    "    \n",
    "    ax_list = [f\"ax_{n}\" for n in specs.keys()]\n",
    "    idx = 0\n",
    "    \n",
    "    for data in data_list:\n",
    "        with sns.axes_style('white'):\n",
    "          ax_list[idx] = fig.add_subplot(ax[specs[idx][\"x_grid_loc\"], specs[idx][\"y_grid_loc\"]])\n",
    "\n",
    "          ax1 = sns.lineplot(data=data,\n",
    "                            x='dt_ativacao',\n",
    "                            y=specs[idx][\"y_axis\"],\n",
    "                            hue=specs[idx][\"hue\"],\n",
    "                            ci=None)\n",
    "\n",
    "          # setting up style\n",
    "          sns.despine(top=True)\n",
    "\n",
    "          # setting up axis and title\n",
    "          plt.title(specs[idx][\"title\"], fontsize=16, fontweight='bold')\n",
    "          plt.xlabel('', fontsize=13, fontweight='bold')\n",
    "          plt.ylabel('', fontsize=13, fontweight='bold')\n",
    "          plt.rcParams['xtick.labelsize'] = 10\n",
    "          plt.rcParams['ytick.labelsize'] = 10\n",
    "\n",
    "          ax_list[idx].xaxis.set_major_formatter(month_fmt)\n",
    "          ax_list[idx].xaxis.set_major_locator(month)\n",
    "          ax_list[idx].set_ylim([0, .2])\n",
    "          \n",
    "          plt.xticks(rotation=20)\n",
    "    \n",
    "          idx += 1\n",
    "\n",
    "    return plt.show()"
   ]
  },
  {
   "cell_type": "code",
   "execution_count": 205,
   "metadata": {},
   "outputs": [
    {
     "data": {
      "image/png": "[encoded data removed]",
      "text/plain": [
       "<Figure size 2000x1040 with 2 Axes>"
      ]
     },
     "metadata": {
      "needs_background": "light"
     },
     "output_type": "display_data"
    }
   ],
   "source": [
    "get_lineplot(\n",
    "  data_list=[\n",
    "    report_ativacao,\n",
    "    report_old_risk\n",
    "  ],\n",
    "  specs={\n",
    "    0: {\"x_grid_loc\": 0, \"y_grid_loc\": 0, \"y_axis\": \"prob_default\", \"hue\": \"segments\", \"title\": \"\"},\n",
    "    1: {\"x_grid_loc\": 0, \"y_grid_loc\": 1, \"y_axis\": \"prob_default\", \"hue\": \"segments\", \"title\": \"\"}\n",
    "  }\n",
    ")"
   ]
  },
  {
   "cell_type": "code",
   "execution_count": null,
   "metadata": {},
   "outputs": [],
   "source": []
  }
 ],
 "metadata": {
  "kernelspec": {
   "display_name": "base",
   "language": "python",
   "name": "python3"
  },
  "language_info": {
   "codemirror_mode": {
    "name": "ipython",
    "version": 3
   },
   "file_extension": ".py",
   "mimetype": "text/x-python",
   "name": "python",
   "nbconvert_exporter": "python",
   "pygments_lexer": "ipython3",
   "version": "3.9.12"
  },
  "orig_nbformat": 4,
  "vscode": {
   "interpreter": {
    "hash": "223ead887b7dcaa75de659872391215d564520fc3b634f5b926bb8a23e5a158e"
   }
  }
 },
 "nbformat": 4,
 "nbformat_minor": 2
}
