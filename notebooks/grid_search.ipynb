{
 "cells": [
  {
   "cell_type": "code",
   "execution_count": 1,
   "metadata": {},
   "outputs": [],
   "source": [
    "import os\n",
    "os.chdir('../')"
   ]
  },
  {
   "attachments": {},
   "cell_type": "markdown",
   "metadata": {},
   "source": [
    "## Imports"
   ]
  },
  {
   "cell_type": "code",
   "execution_count": 2,
   "metadata": {},
   "outputs": [],
   "source": [
    "import pandas as pd\n",
    "from lightgbm import LGBMClassifier\n",
    "from sklearn.ensemble import ExtraTreesClassifier\n",
    "\n",
    "from src.develop.grid_search import GridSearch"
   ]
  },
  {
   "attachments": {},
   "cell_type": "markdown",
   "metadata": {},
   "source": [
    "## Data Collect"
   ]
  },
  {
   "cell_type": "code",
   "execution_count": 4,
   "metadata": {},
   "outputs": [
    {
     "name": "stdout",
     "output_type": "stream",
     "text": [
      "(7307, 21)\n"
     ]
    },
    {
     "data": {
      "text/html": [
       "<div>\n",
       "<style scoped>\n",
       "    .dataframe tbody tr th:only-of-type {\n",
       "        vertical-align: middle;\n",
       "    }\n",
       "\n",
       "    .dataframe tbody tr th {\n",
       "        vertical-align: top;\n",
       "    }\n",
       "\n",
       "    .dataframe thead th {\n",
       "        text-align: right;\n",
       "    }\n",
       "</style>\n",
       "<table border=\"1\" class=\"dataframe\">\n",
       "  <thead>\n",
       "    <tr style=\"text-align: right;\">\n",
       "      <th></th>\n",
       "      <th>dt_calendar</th>\n",
       "      <th>id_imobiliaria</th>\n",
       "      <th>lat_imob</th>\n",
       "      <th>long_imob</th>\n",
       "      <th>is_active</th>\n",
       "      <th>is_activated</th>\n",
       "      <th>is_commun_first_90days</th>\n",
       "      <th>is_debelado</th>\n",
       "      <th>is_debelado_first_4months</th>\n",
       "      <th>is_indemnified</th>\n",
       "      <th>...</th>\n",
       "      <th>is_indemn_first_6months</th>\n",
       "      <th>vl_locacao</th>\n",
       "      <th>is_churn</th>\n",
       "      <th>exonerated_first_6months</th>\n",
       "      <th>rating_A</th>\n",
       "      <th>rating_B</th>\n",
       "      <th>rating_C</th>\n",
       "      <th>rating_D</th>\n",
       "      <th>rating_E</th>\n",
       "      <th>target</th>\n",
       "    </tr>\n",
       "  </thead>\n",
       "  <tbody>\n",
       "    <tr>\n",
       "      <th>0</th>\n",
       "      <td>2017-11-01</td>\n",
       "      <td>215</td>\n",
       "      <td>-31.77</td>\n",
       "      <td>-52.34</td>\n",
       "      <td>277.0</td>\n",
       "      <td>29.0</td>\n",
       "      <td>0.0</td>\n",
       "      <td>8</td>\n",
       "      <td>0.0</td>\n",
       "      <td>1</td>\n",
       "      <td>...</td>\n",
       "      <td>0</td>\n",
       "      <td>1001.96</td>\n",
       "      <td>0.0</td>\n",
       "      <td>0</td>\n",
       "      <td>0.0</td>\n",
       "      <td>0.0</td>\n",
       "      <td>0.0</td>\n",
       "      <td>0.0</td>\n",
       "      <td>0.0</td>\n",
       "      <td>0.0</td>\n",
       "    </tr>\n",
       "    <tr>\n",
       "      <th>1</th>\n",
       "      <td>2017-12-01</td>\n",
       "      <td>215</td>\n",
       "      <td>-31.77</td>\n",
       "      <td>-52.34</td>\n",
       "      <td>293.0</td>\n",
       "      <td>22.0</td>\n",
       "      <td>0.0</td>\n",
       "      <td>2</td>\n",
       "      <td>0.0</td>\n",
       "      <td>0</td>\n",
       "      <td>...</td>\n",
       "      <td>0</td>\n",
       "      <td>1013.40</td>\n",
       "      <td>0.0</td>\n",
       "      <td>0</td>\n",
       "      <td>0.0</td>\n",
       "      <td>0.0</td>\n",
       "      <td>0.0</td>\n",
       "      <td>0.0</td>\n",
       "      <td>0.0</td>\n",
       "      <td>0.0</td>\n",
       "    </tr>\n",
       "    <tr>\n",
       "      <th>2</th>\n",
       "      <td>2018-01-01</td>\n",
       "      <td>215</td>\n",
       "      <td>-31.77</td>\n",
       "      <td>-52.34</td>\n",
       "      <td>306.0</td>\n",
       "      <td>17.0</td>\n",
       "      <td>0.0</td>\n",
       "      <td>9</td>\n",
       "      <td>0.0</td>\n",
       "      <td>2</td>\n",
       "      <td>...</td>\n",
       "      <td>0</td>\n",
       "      <td>1092.53</td>\n",
       "      <td>0.0</td>\n",
       "      <td>0</td>\n",
       "      <td>0.0</td>\n",
       "      <td>0.0</td>\n",
       "      <td>0.0</td>\n",
       "      <td>0.0</td>\n",
       "      <td>0.0</td>\n",
       "      <td>0.0</td>\n",
       "    </tr>\n",
       "    <tr>\n",
       "      <th>3</th>\n",
       "      <td>2018-02-01</td>\n",
       "      <td>215</td>\n",
       "      <td>-31.77</td>\n",
       "      <td>-52.34</td>\n",
       "      <td>340.0</td>\n",
       "      <td>36.0</td>\n",
       "      <td>0.0</td>\n",
       "      <td>10</td>\n",
       "      <td>0.0</td>\n",
       "      <td>1</td>\n",
       "      <td>...</td>\n",
       "      <td>0</td>\n",
       "      <td>928.49</td>\n",
       "      <td>0.0</td>\n",
       "      <td>0</td>\n",
       "      <td>0.0</td>\n",
       "      <td>0.0</td>\n",
       "      <td>0.0</td>\n",
       "      <td>0.0</td>\n",
       "      <td>0.0</td>\n",
       "      <td>0.0</td>\n",
       "    </tr>\n",
       "    <tr>\n",
       "      <th>4</th>\n",
       "      <td>2018-02-01</td>\n",
       "      <td>389</td>\n",
       "      <td>-25.43</td>\n",
       "      <td>-49.26</td>\n",
       "      <td>492.0</td>\n",
       "      <td>87.0</td>\n",
       "      <td>0.0</td>\n",
       "      <td>5</td>\n",
       "      <td>0.0</td>\n",
       "      <td>1</td>\n",
       "      <td>...</td>\n",
       "      <td>0</td>\n",
       "      <td>1248.20</td>\n",
       "      <td>6.0</td>\n",
       "      <td>0</td>\n",
       "      <td>0.0</td>\n",
       "      <td>0.0</td>\n",
       "      <td>0.0</td>\n",
       "      <td>0.0</td>\n",
       "      <td>0.0</td>\n",
       "      <td>0.0</td>\n",
       "    </tr>\n",
       "  </tbody>\n",
       "</table>\n",
       "<p>5 rows × 21 columns</p>\n",
       "</div>"
      ],
      "text/plain": [
       "  dt_calendar  id_imobiliaria  lat_imob  long_imob  is_active  is_activated  \\\n",
       "0  2017-11-01             215    -31.77     -52.34      277.0          29.0   \n",
       "1  2017-12-01             215    -31.77     -52.34      293.0          22.0   \n",
       "2  2018-01-01             215    -31.77     -52.34      306.0          17.0   \n",
       "3  2018-02-01             215    -31.77     -52.34      340.0          36.0   \n",
       "4  2018-02-01             389    -25.43     -49.26      492.0          87.0   \n",
       "\n",
       "   is_commun_first_90days  is_debelado  is_debelado_first_4months  \\\n",
       "0                     0.0            8                        0.0   \n",
       "1                     0.0            2                        0.0   \n",
       "2                     0.0            9                        0.0   \n",
       "3                     0.0           10                        0.0   \n",
       "4                     0.0            5                        0.0   \n",
       "\n",
       "   is_indemnified  ...  is_indemn_first_6months  vl_locacao  is_churn  \\\n",
       "0               1  ...                        0     1001.96       0.0   \n",
       "1               0  ...                        0     1013.40       0.0   \n",
       "2               2  ...                        0     1092.53       0.0   \n",
       "3               1  ...                        0      928.49       0.0   \n",
       "4               1  ...                        0     1248.20       6.0   \n",
       "\n",
       "   exonerated_first_6months  rating_A  rating_B  rating_C  rating_D  rating_E  \\\n",
       "0                         0       0.0       0.0       0.0       0.0       0.0   \n",
       "1                         0       0.0       0.0       0.0       0.0       0.0   \n",
       "2                         0       0.0       0.0       0.0       0.0       0.0   \n",
       "3                         0       0.0       0.0       0.0       0.0       0.0   \n",
       "4                         0       0.0       0.0       0.0       0.0       0.0   \n",
       "\n",
       "   target  \n",
       "0     0.0  \n",
       "1     0.0  \n",
       "2     0.0  \n",
       "3     0.0  \n",
       "4     0.0  \n",
       "\n",
       "[5 rows x 21 columns]"
      ]
     },
     "execution_count": 4,
     "metadata": {},
     "output_type": "execute_result"
    }
   ],
   "source": [
    "df_model = pd.read_csv(\"notebooks/outputs/df_model.csv\")\n",
    "df_model[\"dt_calendar\"] = pd.to_datetime(df_model[\"dt_calendar\"])\n",
    "\n",
    "print(df_model.shape)\n",
    "df_model.head()"
   ]
  },
  {
   "attachments": {},
   "cell_type": "markdown",
   "metadata": {},
   "source": [
    "## Grid Search"
   ]
  },
  {
   "cell_type": "code",
   "execution_count": 6,
   "metadata": {},
   "outputs": [],
   "source": [
    "lgbm = LGBMClassifier()\n",
    "et = ExtraTreesClassifier()"
   ]
  },
  {
   "cell_type": "code",
   "execution_count": 7,
   "metadata": {},
   "outputs": [
    {
     "name": "stdout",
     "output_type": "stream",
     "text": [
      "(4423, 10) (4423,)\n",
      "(4423, 10) (4423,)\n"
     ]
    }
   ],
   "source": [
    "grid_et = GridSearch(df=df_model, estimator=\"et\")\n",
    "grid_lgbm = GridSearch(df=df_model, estimator=\"lgbm\")\n",
    "\n",
    "best_params_et = grid_et.fit(cutoff_date=\"2022-06\")\n",
    "best_params_lgbm = grid_lgbm.fit(cutoff_date=\"2022-06\")"
   ]
  },
  {
   "cell_type": "code",
   "execution_count": 8,
   "metadata": {},
   "outputs": [
    {
     "name": "stdout",
     "output_type": "stream",
     "text": [
      "\n",
      "ET: {'bootstrap': True, 'min_samples_leaf': 6, 'n_estimators': 300, 'random_state': 5}\n",
      "LGBM: {'colsample_bytree': 0.5, 'learning_rate': 0.006, 'max_depth': 3, 'metric': 'auc', 'n_estimators': 300, 'objective': 'binary', 'random_state': 5, 'subsample': 0.4}\n",
      "\n"
     ]
    }
   ],
   "source": [
    "print(f\"\"\"\n",
    "ET: {best_params_et}\n",
    "LGBM: {best_params_lgbm}\n",
    "\"\"\")"
   ]
  },
  {
   "cell_type": "code",
   "execution_count": null,
   "metadata": {},
   "outputs": [],
   "source": []
  }
 ],
 "metadata": {
  "kernelspec": {
   "display_name": "Python 3",
   "language": "python",
   "name": "python3"
  },
  "language_info": {
   "codemirror_mode": {
    "name": "ipython",
    "version": 3
   },
   "file_extension": ".py",
   "mimetype": "text/x-python",
   "name": "python",
   "nbconvert_exporter": "python",
   "pygments_lexer": "ipython3",
   "version": "3.8.9 (default, Jul 19 2021, 09:37:32) \n[Clang 13.0.0 (clang-1300.0.27.3)]"
  },
  "orig_nbformat": 4,
  "vscode": {
   "interpreter": {
    "hash": "31f2aee4e71d21fbe5cf8b01ff0e069b9275f58929596ceb00d14d90e3e16cd6"
   }
  }
 },
 "nbformat": 4,
 "nbformat_minor": 2
}
